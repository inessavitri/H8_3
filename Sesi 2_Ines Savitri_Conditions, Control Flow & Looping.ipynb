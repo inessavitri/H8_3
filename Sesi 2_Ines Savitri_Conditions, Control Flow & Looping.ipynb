{
 "cells": [
  {
   "cell_type": "markdown",
   "id": "f9cbad7b",
   "metadata": {},
   "source": [
    "# S.2 // Conditions, Control Flow & Looping"
   ]
  },
  {
   "cell_type": "markdown",
   "id": "6f0106e4",
   "metadata": {},
   "source": [
    "### Conditional"
   ]
  },
  {
   "cell_type": "code",
   "execution_count": 1,
   "id": "12ea94c9",
   "metadata": {},
   "outputs": [],
   "source": [
    "### Conditional ###\n",
    "# python mendukung logical conditions yang biasa dipakai dalam matematika:\n",
    "# Equals: a == b\n",
    "# Not Equals a != b\n",
    "# Less than: a < b\n",
    "# Greater than: a > b\n",
    "# Greater than or equal to: a >= b\n",
    "# These conditions can be used in several ways, most commonly in \"if statement\" and loops.\n",
    "## Sebuah \"if statement\" ditulis dengan menggunakan if keyword.\n",
    "## Dalam program Python, if statement adalah bagaimana kalian melakukan decision-making. If Statement memungkinkan eksekusi kondisional dari pernyataan atau kelompok pernyataan berdasarkan nilai ekspresi."
   ]
  },
  {
   "cell_type": "markdown",
   "id": "be690f99",
   "metadata": {},
   "source": [
    "### Introduction to the if Statement"
   ]
  },
  {
   "cell_type": "code",
   "execution_count": 4,
   "id": "e17328ca",
   "metadata": {},
   "outputs": [
    {
     "name": "stdout",
     "output_type": "stream",
     "text": [
      "yes\n",
      "yes\n",
      "yes\n"
     ]
    }
   ],
   "source": [
    "# if <expr>:\n",
    "#    <statement>\n",
    "    \n",
    "x = 0\n",
    "y = 5\n",
    "if x < y:       #Truthy\n",
    "    print('yes')\n",
    "\n",
    "if y < x:       #Falsy\n",
    "    print('yes')\n",
    "\n",
    "if x:           #Falsy\n",
    "    print('yes')\n",
    "\n",
    "if y:           #Truthy\n",
    "    print('yes')\n",
    "    \n",
    "if 'aul' in 'grault':    #Truthy\n",
    "    print('yes')\n",
    "    \n",
    "if 'quux' in ['foo', 'bar', 'baz']:     #Falsy\n",
    "    print('yes')"
   ]
  },
  {
   "cell_type": "markdown",
   "id": "770d6ccd",
   "metadata": {},
   "source": [
    "### Grouping Statements: Indentation and Blocks"
   ]
  },
  {
   "cell_type": "code",
   "execution_count": 5,
   "id": "b85689cb",
   "metadata": {},
   "outputs": [],
   "source": [
    "# if <expr>:\n",
    "#     <statement>\n",
    "#     <statement>\n",
    "#     ...\n",
    "#     <statement>\n",
    "#   <following_statement>"
   ]
  },
  {
   "cell_type": "code",
   "execution_count": 6,
   "id": "7cdcf5b8",
   "metadata": {},
   "outputs": [
    {
     "name": "stdout",
     "output_type": "stream",
     "text": [
      "After conditional\n"
     ]
    }
   ],
   "source": [
    "if 'foo' in ['bar', 'baz', 'qux']:\n",
    "    print('Expression was true')\n",
    "    print('Executing statement in suite')\n",
    "    print('...')\n",
    "    print('Done.')\n",
    "    \n",
    "print('After conditional')"
   ]
  },
  {
   "cell_type": "code",
   "execution_count": 7,
   "id": "d6c8f132",
   "metadata": {},
   "outputs": [
    {
     "name": "stdout",
     "output_type": "stream",
     "text": [
      "Outer condition is true\n",
      "Between inner condition\n",
      "Inner condition 2\n",
      "End of outer condition\n",
      "After outer condition\n"
     ]
    }
   ],
   "source": [
    "# Does line execute?\n",
    "#                                          Yes    No\n",
    "if 'foo' in ['foo', 'bar', 'baz']:       #  x     \n",
    "    print('Outer condition is true')     #  x\n",
    "    \n",
    "    if 10 > 20:                          #  x\n",
    "        print('Inner condition 1')       #        x\n",
    "    \n",
    "    print('Between inner condition')     #  x\n",
    "    \n",
    "    if 10 < 20:                          #  x\n",
    "        print('Inner condition 2')       #  x\n",
    "    \n",
    "    print('End of outer condition')      #  x\n",
    "print('After outer condition')           #  x"
   ]
  },
  {
   "cell_type": "markdown",
   "id": "3b14b579",
   "metadata": {},
   "source": [
    "## The else and elif Clauses"
   ]
  },
  {
   "cell_type": "code",
   "execution_count": null,
   "id": "4a5b137e",
   "metadata": {},
   "outputs": [],
   "source": [
    "# if <expr>:\n",
    "#     <statement(s)>\n",
    "# else:\n",
    "#     <statement(s)>"
   ]
  },
  {
   "cell_type": "code",
   "execution_count": 8,
   "id": "4ab4d948",
   "metadata": {},
   "outputs": [
    {
     "name": "stdout",
     "output_type": "stream",
     "text": [
      "(first suite)\n",
      "x is small\n"
     ]
    }
   ],
   "source": [
    "x = 20\n",
    "\n",
    "if x < 50:\n",
    "    print('(first suite)')\n",
    "    print('x is small')\n",
    "else:\n",
    "    print('(second suite)')\n",
    "    print('x is large')"
   ]
  },
  {
   "cell_type": "code",
   "execution_count": 9,
   "id": "835b2d17",
   "metadata": {},
   "outputs": [
    {
     "name": "stdout",
     "output_type": "stream",
     "text": [
      "(second suite)\n",
      "x is large\n"
     ]
    }
   ],
   "source": [
    "x = 120\n",
    "\n",
    "if x < 50:\n",
    "    print('(first suite)')\n",
    "    print('x is small')\n",
    "else:\n",
    "    print('(second suite)')\n",
    "    print('x is large')"
   ]
  },
  {
   "cell_type": "code",
   "execution_count": 10,
   "id": "28187a03",
   "metadata": {},
   "outputs": [
    {
     "name": "stdout",
     "output_type": "stream",
     "text": [
      "uang tidak cukup\n"
     ]
    }
   ],
   "source": [
    "hargaBuku = 20000\n",
    "hargaMajalah = 5000\n",
    "uang = 2000\n",
    "\n",
    "if uang > hargaBuku:\n",
    "    print(\"beli buku\")\n",
    "else:\n",
    "    print(\"uang tidak cukup\")"
   ]
  },
  {
   "cell_type": "code",
   "execution_count": 11,
   "id": "d4806abb",
   "metadata": {},
   "outputs": [
    {
     "name": "stdout",
     "output_type": "stream",
     "text": [
      "Hello Hacktiv8\n"
     ]
    }
   ],
   "source": [
    "name = 'Hacktiv8'\n",
    "if name == 'Fred':\n",
    "    print('Hello Fred')\n",
    "elif name == 'Xander':\n",
    "    print('Hello Xander')\n",
    "elif name == 'Hacktiv8':\n",
    "    print('Hello Hacktiv8')\n",
    "elif name == 'Arnold':\n",
    "    print('Hello Arnold')\n",
    "else:\n",
    "    print(\"I don't know who you are!\")\n"
   ]
  },
  {
   "cell_type": "code",
   "execution_count": 12,
   "id": "5c081238",
   "metadata": {},
   "outputs": [
    {
     "name": "stdout",
     "output_type": "stream",
     "text": [
      "foo\n"
     ]
    }
   ],
   "source": [
    "if 'a' in 'bar':\n",
    "    print('foo')\n",
    "elif 1/0:\n",
    "    print(\"This won't happen\")\n",
    "elif var:\n",
    "    print(\"This won't either\")"
   ]
  },
  {
   "cell_type": "markdown",
   "id": "449d7014",
   "metadata": {},
   "source": [
    "## One-Line if Statement"
   ]
  },
  {
   "cell_type": "code",
   "execution_count": 13,
   "id": "c87fa465",
   "metadata": {},
   "outputs": [],
   "source": [
    "# if <expr>:\n",
    "#     <statement>"
   ]
  },
  {
   "cell_type": "code",
   "execution_count": 14,
   "id": "7174e901",
   "metadata": {},
   "outputs": [
    {
     "name": "stdout",
     "output_type": "stream",
     "text": [
      "1\n",
      "2\n",
      "3\n"
     ]
    }
   ],
   "source": [
    "if 'f' in 'foo': print('1'); print('2'); print('3')"
   ]
  },
  {
   "cell_type": "code",
   "execution_count": 15,
   "id": "a9add267",
   "metadata": {},
   "outputs": [],
   "source": [
    "if 'z' in 'foo': print('1'); print('2'); print('3')"
   ]
  },
  {
   "cell_type": "code",
   "execution_count": 19,
   "id": "7d3ddab8",
   "metadata": {},
   "outputs": [
    {
     "name": "stdout",
     "output_type": "stream",
     "text": [
      "qux\n",
      "quux\n"
     ]
    }
   ],
   "source": [
    "x = 2\n",
    "\n",
    "if x == 1: print('foo'); print('bar'); print('baz')\n",
    "elif x == 2: print('qux'); print('quux')\n",
    "else: print('corge'); print('grault')"
   ]
  },
  {
   "cell_type": "code",
   "execution_count": 21,
   "id": "e7ea1747",
   "metadata": {},
   "outputs": [
    {
     "name": "stdout",
     "output_type": "stream",
     "text": [
      "corge\n",
      "grault\n"
     ]
    }
   ],
   "source": [
    "x = 3\n",
    "\n",
    "if x == 1: print('foo'); print('bar'); print('baz')\n",
    "elif x == 2: print('qux'); print('quux')\n",
    "else: print('corge'); print('grault')"
   ]
  },
  {
   "cell_type": "code",
   "execution_count": 22,
   "id": "b36fb68d",
   "metadata": {},
   "outputs": [
    {
     "name": "stdout",
     "output_type": "stream",
     "text": [
      "corge\n",
      "grault\n"
     ]
    }
   ],
   "source": [
    "x = 3\n",
    "\n",
    "if x == 1: \n",
    "    print('foo') \n",
    "    print('bar') \n",
    "    print('baz')\n",
    "elif x == 2: \n",
    "    print('qux')\n",
    "    print('quux')\n",
    "else: \n",
    "    print('corge')\n",
    "    print('grault')"
   ]
  },
  {
   "cell_type": "markdown",
   "id": "8dcafc2c",
   "metadata": {},
   "source": [
    "## Conditional Expressions (Python's Ternary Operator)"
   ]
  },
  {
   "cell_type": "code",
   "execution_count": 23,
   "id": "ba61870c",
   "metadata": {},
   "outputs": [],
   "source": [
    "# <expr1> if <conditional expr> else <expr2>"
   ]
  },
  {
   "cell_type": "code",
   "execution_count": 24,
   "id": "9368f788",
   "metadata": {},
   "outputs": [
    {
     "name": "stdout",
     "output_type": "stream",
     "text": [
      "Let's go to the beach\n"
     ]
    }
   ],
   "source": [
    "raining = False\n",
    "print(\"Let's go to the\", 'beach' if not raining else 'library')"
   ]
  },
  {
   "cell_type": "code",
   "execution_count": 25,
   "id": "e7a323bc",
   "metadata": {},
   "outputs": [
    {
     "name": "stdout",
     "output_type": "stream",
     "text": [
      "Let's go to the library\n"
     ]
    }
   ],
   "source": [
    "raining = True\n",
    "print(\"Let's go to the\", 'beach' if not raining else 'library')"
   ]
  },
  {
   "cell_type": "code",
   "execution_count": 26,
   "id": "8120c305",
   "metadata": {},
   "outputs": [
    {
     "data": {
      "text/plain": [
       "'teen'"
      ]
     },
     "execution_count": 26,
     "metadata": {},
     "output_type": "execute_result"
    }
   ],
   "source": [
    "age = 12\n",
    "s = 'teen' if age < 21 else 'adult'\n",
    "s"
   ]
  },
  {
   "cell_type": "code",
   "execution_count": 27,
   "id": "8dd01d48",
   "metadata": {},
   "outputs": [
    {
     "data": {
      "text/plain": [
       "'no'"
      ]
     },
     "execution_count": 27,
     "metadata": {},
     "output_type": "execute_result"
    }
   ],
   "source": [
    "'yes' if ('qux' in ['foo', 'bar', 'bazz']) else 'no'"
   ]
  },
  {
   "cell_type": "code",
   "execution_count": 29,
   "id": "b4b5154b",
   "metadata": {},
   "outputs": [],
   "source": [
    "# if a > b:\n",
    "#    m = a\n",
    "# else:\n",
    "#    m = b"
   ]
  },
  {
   "cell_type": "markdown",
   "id": "69b4e8b3",
   "metadata": {},
   "source": [
    "## The Python pass Statement"
   ]
  },
  {
   "cell_type": "code",
   "execution_count": 30,
   "id": "e1d267c5",
   "metadata": {},
   "outputs": [
    {
     "name": "stdout",
     "output_type": "stream",
     "text": [
      "foo\n"
     ]
    }
   ],
   "source": [
    "if True:\n",
    "    print('foo')"
   ]
  },
  {
   "cell_type": "code",
   "execution_count": 31,
   "id": "6cc37d7f",
   "metadata": {},
   "outputs": [
    {
     "ename": "SyntaxError",
     "evalue": "invalid syntax (2349386758.py, line 1)",
     "output_type": "error",
     "traceback": [
      "\u001b[1;36m  Input \u001b[1;32mIn [31]\u001b[1;36m\u001b[0m\n\u001b[1;33m    File \"foo.py\", line 3\u001b[0m\n\u001b[1;37m         ^\u001b[0m\n\u001b[1;31mSyntaxError\u001b[0m\u001b[1;31m:\u001b[0m invalid syntax\n"
     ]
    }
   ],
   "source": [
    "File \"foo.py\", line 3\n",
    "print('foo')"
   ]
  },
  {
   "cell_type": "code",
   "execution_count": 1,
   "id": "34d1e7c0",
   "metadata": {},
   "outputs": [
    {
     "name": "stdout",
     "output_type": "stream",
     "text": [
      "foo\n"
     ]
    }
   ],
   "source": [
    "if True:\n",
    "    pass\n",
    "print('foo')"
   ]
  },
  {
   "cell_type": "markdown",
   "id": "48294440",
   "metadata": {},
   "source": [
    "## Python \"while\" Loops"
   ]
  },
  {
   "cell_type": "code",
   "execution_count": 2,
   "id": "090e6e21",
   "metadata": {},
   "outputs": [],
   "source": [
    "# while <expr>:\n",
    "#     <statement(s)>"
   ]
  },
  {
   "cell_type": "code",
   "execution_count": 4,
   "id": "de55af46",
   "metadata": {},
   "outputs": [
    {
     "name": "stdout",
     "output_type": "stream",
     "text": [
      "4\n",
      "3\n",
      "2\n",
      "1\n",
      "0\n"
     ]
    }
   ],
   "source": [
    "n = 5\n",
    "while n > 0:\n",
    "    n -= 1\n",
    "    print(n)"
   ]
  },
  {
   "cell_type": "code",
   "execution_count": 5,
   "id": "6c452992",
   "metadata": {},
   "outputs": [
    {
     "name": "stdout",
     "output_type": "stream",
     "text": [
      "1\n",
      "2\n",
      "3\n",
      "4\n",
      "5\n"
     ]
    }
   ],
   "source": [
    "i = 1\n",
    "while i < 6:\n",
    "    print(i)\n",
    "    i += 1"
   ]
  },
  {
   "cell_type": "markdown",
   "id": "961beb6d",
   "metadata": {},
   "source": [
    "## The Python break and continue Statements "
   ]
  },
  {
   "cell_type": "code",
   "execution_count": 6,
   "id": "fab01a78",
   "metadata": {},
   "outputs": [],
   "source": [
    "# while <expr>\n",
    "#     <statement>\n",
    "#     <statement>\n",
    "#      break\n",
    "#     <statement>\n",
    "#     <statement>\n",
    "#      continue\n",
    "#     <statement>\n",
    "#     <statement>\n",
    "\n",
    "# <statement>"
   ]
  },
  {
   "cell_type": "code",
   "execution_count": 8,
   "id": "ae4e88ba",
   "metadata": {},
   "outputs": [
    {
     "name": "stdout",
     "output_type": "stream",
     "text": [
      "4\n",
      "3\n",
      "Loop ended\n"
     ]
    }
   ],
   "source": [
    "n = 5\n",
    "while n > 0:\n",
    "    n -= 1\n",
    "    if n == 2:\n",
    "        break  # Break Statement\n",
    "    print(n)\n",
    "print('Loop ended.')"
   ]
  },
  {
   "cell_type": "markdown",
   "id": "e7caf908",
   "metadata": {},
   "source": [
    "## The else Clause"
   ]
  },
  {
   "cell_type": "code",
   "execution_count": 9,
   "id": "454e754c",
   "metadata": {},
   "outputs": [],
   "source": [
    "# while <expr>:\n",
    "#     <statement(s)>\n",
    "# else:\n",
    "#     <additional_statement(s)>"
   ]
  },
  {
   "cell_type": "code",
   "execution_count": 11,
   "id": "df597874",
   "metadata": {},
   "outputs": [
    {
     "name": "stdout",
     "output_type": "stream",
     "text": [
      "4\n",
      "3\n",
      "2\n",
      "1\n",
      "0\n",
      "Loop done.\n"
     ]
    }
   ],
   "source": [
    "n = 5\n",
    "while n > 0:\n",
    "    n -= 1\n",
    "    print(n)\n",
    "else:\n",
    "    print('Loop done.')"
   ]
  },
  {
   "cell_type": "code",
   "execution_count": 12,
   "id": "ebaaadef",
   "metadata": {},
   "outputs": [
    {
     "name": "stdout",
     "output_type": "stream",
     "text": [
      "4\n",
      "3\n",
      "2\n"
     ]
    }
   ],
   "source": [
    "n = 5\n",
    "while n > 0:\n",
    "    n -= 1\n",
    "    print(n)\n",
    "    if n == 2:\n",
    "        break\n",
    "else:\n",
    "    print('Loop done.')"
   ]
  },
  {
   "cell_type": "markdown",
   "id": "cb1aef55",
   "metadata": {},
   "source": [
    "## Infinite Loops"
   ]
  },
  {
   "cell_type": "code",
   "execution_count": 14,
   "id": "fa57b894",
   "metadata": {},
   "outputs": [],
   "source": [
    "# while True:\n",
    "#     print('foo')"
   ]
  },
  {
   "cell_type": "markdown",
   "id": "2fef4354",
   "metadata": {},
   "source": [
    "## Nested while Loops"
   ]
  },
  {
   "cell_type": "code",
   "execution_count": 23,
   "id": "56506d2b",
   "metadata": {},
   "outputs": [
    {
     "name": "stdout",
     "output_type": "stream",
     "text": [
      "mother\n"
     ]
    }
   ],
   "source": [
    "# struktur kontrol Python dapat di-nest satu sama lain. Misalnya if/elif/else.\n",
    "\n",
    "age = 20\n",
    "gender = 'F'\n",
    "\n",
    "if age < 18:\n",
    "    if gender == 'M':\n",
    "        print('son')\n",
    "    else:\n",
    "        print('daughter')\n",
    "elif age >= 18 and age < 65:\n",
    "    if gender == 'M':\n",
    "        print('father')\n",
    "    else:\n",
    "        print('mother')\n",
    "else:\n",
    "    if gender == 'M':\n",
    "        print('grandfather')\n",
    "    else:\n",
    "        print('grandmother')\n",
    "        "
   ]
  },
  {
   "cell_type": "code",
   "execution_count": 24,
   "id": "680bb612",
   "metadata": {},
   "outputs": [
    {
     "name": "stdout",
     "output_type": "stream",
     "text": [
      "foo\n",
      "> baz\n",
      "> qux\n",
      "bar\n",
      "> baz\n",
      "> qux\n"
     ]
    }
   ],
   "source": [
    "# loop while dapat dimuat dalam loop while lainnya, seperti berikut ini:\n",
    "\n",
    "a = ['foo', 'bar']\n",
    "\n",
    "while len(a):\n",
    "    print(a.pop(0))\n",
    "    \n",
    "    b = ['baz', 'qux']\n",
    "    \n",
    "    while len(b):\n",
    "        print('>', b.pop(0))"
   ]
  },
  {
   "cell_type": "code",
   "execution_count": 25,
   "id": "89f8c76f",
   "metadata": {},
   "outputs": [],
   "source": [
    "## Break atau continue statement yang ditemukan dalam nested loop berlaku untuk loop terdekat:\n",
    "\n",
    "# while <expr1>:\n",
    "#    statement\n",
    "#    statement\n",
    "    \n",
    "#    while <expr2>:\n",
    "#        statement\n",
    "#        statement\n",
    "#        break  # Applies to while <expr2>: loop\n",
    "        \n",
    "#    break  # Applies to while <expr1>: loop"
   ]
  },
  {
   "cell_type": "code",
   "execution_count": 26,
   "id": "1bd29cc3",
   "metadata": {},
   "outputs": [],
   "source": [
    "## Selain itu, while loop dapat ditempatkan di dalam pernyataan if/elif/else, dan sebaliknya:\n",
    "\n",
    "# if <expr>:\n",
    "#     statement\n",
    "#     while <expr>:\n",
    "#         statement\n",
    "#         statement\n",
    "# else:\n",
    "#     while <expr>:\n",
    "#         statement\n",
    "#         statement\n",
    "#     statement\n",
    "# while <expr>:\n",
    "#     if <expr>:\n",
    "#         statement\n",
    "#     elif <expr>:\n",
    "#         statement\n",
    "#     else:\n",
    "#         statement\n",
    "\n",
    "#     if <expr>:\n",
    "#         statement\n"
   ]
  },
  {
   "cell_type": "markdown",
   "id": "e522e781",
   "metadata": {},
   "source": [
    "## One-Line while Loops"
   ]
  },
  {
   "cell_type": "code",
   "execution_count": 27,
   "id": "4b419d7c",
   "metadata": {},
   "outputs": [
    {
     "name": "stdout",
     "output_type": "stream",
     "text": [
      "4\n",
      "3\n",
      "2\n",
      "1\n",
      "0\n"
     ]
    }
   ],
   "source": [
    "n = 5\n",
    "while n > 0: n -= 1; print(n)"
   ]
  },
  {
   "cell_type": "markdown",
   "id": "033658e2",
   "metadata": {},
   "source": [
    "## A Survey of Definite Iteration in Programming"
   ]
  },
  {
   "cell_type": "code",
   "execution_count": 3,
   "id": "a8411399",
   "metadata": {},
   "outputs": [],
   "source": [
    "# Numeric Range Loop\n",
    "# for i = 1 to 10\n",
    "#    <loop body>"
   ]
  },
  {
   "cell_type": "code",
   "execution_count": 6,
   "id": "7d054934",
   "metadata": {},
   "outputs": [],
   "source": [
    "# Three-Expression Loop\n",
    "# for (i = 1; i <= 10; i++)\n",
    "#    <loop body>"
   ]
  },
  {
   "cell_type": "code",
   "execution_count": null,
   "id": "db6bdb02",
   "metadata": {},
   "outputs": [],
   "source": [
    "# Collection-Based or Iterator-Based Loop\n",
    "# for i in <collection>\n",
    "     <loop body>"
   ]
  },
  {
   "cell_type": "markdown",
   "id": "48a65504",
   "metadata": {},
   "source": [
    "## The Python for Loop"
   ]
  },
  {
   "cell_type": "code",
   "execution_count": 7,
   "id": "771eb8ed",
   "metadata": {},
   "outputs": [],
   "source": [
    "# Python hanya mengimplementasikan iterasi terakhir: collection-based.\n",
    "\n",
    "# for <var> in <iterable>\n",
    "#    <statement(s)>\n",
    "\n",
    "# <iterable> adalah kumpulan objek -- misalnya, list atau tuple. <statement(s)> di badan loop dilambangkan dengan indentasi, seperti dengan semua struktur kontrol Python, dan dieksekusi sekali untuk setiap item di <iterable>. Varibel loop <var> mengambil nilai elemen berikutnya di <iterable> setiap kali melalui loop."
   ]
  },
  {
   "cell_type": "code",
   "execution_count": 8,
   "id": "3d7e8f22",
   "metadata": {},
   "outputs": [
    {
     "name": "stdout",
     "output_type": "stream",
     "text": [
      "foo\n",
      "bar\n",
      "baz\n"
     ]
    }
   ],
   "source": [
    "a = ['foo', 'bar', 'baz']\n",
    "for i in a:\n",
    "    print(i)"
   ]
  },
  {
   "cell_type": "code",
   "execution_count": 9,
   "id": "61c7591b",
   "metadata": {},
   "outputs": [
    {
     "name": "stdout",
     "output_type": "stream",
     "text": [
      "foo\n",
      "bar\n",
      "baz\n"
     ]
    }
   ],
   "source": [
    "d = {'foo': 1, 'bar':2, 'baz':3}\n",
    "for k in d:\n",
    "    print(k)"
   ]
  },
  {
   "cell_type": "code",
   "execution_count": 11,
   "id": "d041d7da",
   "metadata": {},
   "outputs": [
    {
     "name": "stdout",
     "output_type": "stream",
     "text": [
      "1\n",
      "2\n",
      "3\n"
     ]
    }
   ],
   "source": [
    "for k in d:\n",
    "    print(d[k])"
   ]
  },
  {
   "cell_type": "code",
   "execution_count": 12,
   "id": "3ac295ea",
   "metadata": {},
   "outputs": [
    {
     "name": "stdout",
     "output_type": "stream",
     "text": [
      "1\n",
      "2\n",
      "3\n"
     ]
    }
   ],
   "source": [
    "for k in d.values():\n",
    "    print(k)"
   ]
  },
  {
   "cell_type": "code",
   "execution_count": 13,
   "id": "adbe5f49",
   "metadata": {},
   "outputs": [
    {
     "name": "stdout",
     "output_type": "stream",
     "text": [
      "foo : 1\n",
      "bar : 2\n",
      "baz : 3\n"
     ]
    }
   ],
   "source": [
    "for k, v in d.items():\n",
    "    print(k, \":\", v)"
   ]
  },
  {
   "cell_type": "markdown",
   "id": "e0f6d4ff",
   "metadata": {},
   "source": [
    "# Iterating Through a Dictionary"
   ]
  },
  {
   "cell_type": "code",
   "execution_count": 15,
   "id": "2d726ccc",
   "metadata": {},
   "outputs": [],
   "source": [
    "# untuk mengakses nilai dictionary dalam loop, menggunakan kunci sebagai berikut:\n",
    "# for k in d:\n",
    "#    print(k)"
   ]
  },
  {
   "cell_type": "code",
   "execution_count": 16,
   "id": "fe71661e",
   "metadata": {},
   "outputs": [],
   "source": [
    "# dapat beriterasi melalui nilai dictionary secara langsung dengan menggunakan .values()\n",
    "# for v in d.values():\n",
    "#    print(v)"
   ]
  },
  {
   "cell_type": "markdown",
   "id": "9ec78bb6",
   "metadata": {},
   "source": [
    "# The range() Function"
   ]
  },
  {
   "cell_type": "code",
   "execution_count": 20,
   "id": "80773927",
   "metadata": {},
   "outputs": [
    {
     "name": "stdout",
     "output_type": "stream",
     "text": [
      "0\n",
      "1\n",
      "2\n",
      "3\n",
      "4\n"
     ]
    }
   ],
   "source": [
    "for n in (0, 1, 2, 3, 4):\n",
    "    print(n)"
   ]
  },
  {
   "cell_type": "markdown",
   "id": "62a73801",
   "metadata": {},
   "source": [
    "# Altering for Loop Behavior"
   ]
  },
  {
   "cell_type": "markdown",
   "id": "2f514979",
   "metadata": {},
   "source": [
    "### The break and continue Statements"
   ]
  },
  {
   "cell_type": "code",
   "execution_count": 21,
   "id": "4cfe2364",
   "metadata": {},
   "outputs": [],
   "source": [
    "# break menghentikan loop sepenuhnya dan melanjutkan ke pernyataan pertama setelah loop:"
   ]
  },
  {
   "cell_type": "code",
   "execution_count": 22,
   "id": "eea3b11b",
   "metadata": {},
   "outputs": [
    {
     "name": "stdout",
     "output_type": "stream",
     "text": [
      "foo\n"
     ]
    }
   ],
   "source": [
    "# contoh break\n",
    "for i in ['foo', 'bar', 'baz', 'qux']:\n",
    "    if 'b' in i:\n",
    "        break\n",
    "    print(i)"
   ]
  },
  {
   "cell_type": "code",
   "execution_count": 23,
   "id": "39fbd7be",
   "metadata": {},
   "outputs": [],
   "source": [
    "# continue menghentikan iterasi saat ini dan melanjutkan ke iterasi berikutnya:"
   ]
  },
  {
   "cell_type": "code",
   "execution_count": 24,
   "id": "d53591ff",
   "metadata": {},
   "outputs": [
    {
     "name": "stdout",
     "output_type": "stream",
     "text": [
      "foo\n",
      "qux\n"
     ]
    }
   ],
   "source": [
    "# contoh continue\n",
    "for i in ['foo', 'bar', 'baz', 'qux']:\n",
    "    if 'b' in i:\n",
    "        continue\n",
    "    print(i)"
   ]
  },
  {
   "cell_type": "markdown",
   "id": "b772cfcd",
   "metadata": {},
   "source": [
    "### The else Clause"
   ]
  },
  {
   "cell_type": "code",
   "execution_count": 25,
   "id": "533d7595",
   "metadata": {},
   "outputs": [
    {
     "name": "stdout",
     "output_type": "stream",
     "text": [
      "foo\n",
      "bar\n",
      "baz\n",
      "qux\n",
      "Done.\n"
     ]
    }
   ],
   "source": [
    "# Klause else akan dijalankan jika loop berakhir karena iterable habis:\n",
    "\n",
    "for i in ['foo', 'bar', 'baz', 'qux']:\n",
    "    print(i)\n",
    "else:\n",
    "    print('Done.')  # will execute"
   ]
  },
  {
   "cell_type": "code",
   "execution_count": 1,
   "id": "ebb69d79",
   "metadata": {},
   "outputs": [
    {
     "name": "stdout",
     "output_type": "stream",
     "text": [
      "foo\n"
     ]
    }
   ],
   "source": [
    "# Klause else tidak akan dijalankan jika list berhenti dengan pernyataan break:\n",
    "\n",
    "for i in ['foo', 'bar', 'baz', 'qux']:\n",
    "    if i == 'bar':\n",
    "        break\n",
    "    print(i)\n",
    "else:\n",
    "    print('Done.')  #will not execute"
   ]
  },
  {
   "cell_type": "code",
   "execution_count": 2,
   "id": "45a5ffc9",
   "metadata": {},
   "outputs": [],
   "source": [
    "# Contoh penggunaan:"
   ]
  },
  {
   "cell_type": "code",
   "execution_count": 4,
   "id": "87d8c29e",
   "metadata": {},
   "outputs": [
    {
     "name": "stdout",
     "output_type": "stream",
     "text": [
      "Ketikan termperatur yang ingin dikonversi, eg. 45F, 120C: 45C\n",
      "Temperaturnya adalah 113 derajat\n"
     ]
    }
   ],
   "source": [
    "temp = input(\"Ketikan termperatur yang ingin dikonversi, eg. 45F, 120C: \")\n",
    "degree = int(temp[:-1])\n",
    "i_convertion = temp[-1]\n",
    "\n",
    "if i_convertion == \"C\":\n",
    "    result = int(round((9 * degree) / 5 + 32))\n",
    "elif i_convertion == \"F\":\n",
    "    result = int(round((degree - 32) * 5 /9))\n",
    "else: \n",
    "    print(\"Masukan input yang benar\")\n",
    "    \n",
    "print(\"Temperaturnya adalah\", result, \"derajat\")"
   ]
  },
  {
   "cell_type": "code",
   "execution_count": 6,
   "id": "b755e503",
   "metadata": {},
   "outputs": [
    {
     "name": "stdout",
     "output_type": "stream",
     "text": [
      "Ketikan karakter: INES\n",
      "ines\n",
      "Ketikan karakter: STOP\n",
      "stop\n"
     ]
    }
   ],
   "source": [
    "while True:\n",
    "    msg = input(\"Ketikan karakter: \").lower()\n",
    "    print(msg)\n",
    "    if msg == \"stop\":\n",
    "        break\n"
   ]
  },
  {
   "cell_type": "code",
   "execution_count": null,
   "id": "a1deee31",
   "metadata": {},
   "outputs": [],
   "source": []
  },
  {
   "cell_type": "code",
   "execution_count": null,
   "id": "3ae6cfd7",
   "metadata": {},
   "outputs": [],
   "source": []
  },
  {
   "cell_type": "code",
   "execution_count": null,
   "id": "c73d8a1f",
   "metadata": {},
   "outputs": [],
   "source": []
  }
 ],
 "metadata": {
  "kernelspec": {
   "display_name": "Python 3 (ipykernel)",
   "language": "python",
   "name": "python3"
  },
  "language_info": {
   "codemirror_mode": {
    "name": "ipython",
    "version": 3
   },
   "file_extension": ".py",
   "mimetype": "text/x-python",
   "name": "python",
   "nbconvert_exporter": "python",
   "pygments_lexer": "ipython3",
   "version": "3.9.12"
  }
 },
 "nbformat": 4,
 "nbformat_minor": 5
}
