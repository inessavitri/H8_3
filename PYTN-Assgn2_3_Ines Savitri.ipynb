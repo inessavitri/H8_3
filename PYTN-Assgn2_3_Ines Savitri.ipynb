{
 "cells": [
  {
   "cell_type": "markdown",
   "id": "2f14bc95",
   "metadata": {},
   "source": [
    "# Assigment II\n",
    "\n",
    "- Nama: Ines Savitri\n",
    "- Kode Peserta: PYTN-KS07-017"
   ]
  },
  {
   "cell_type": "markdown",
   "id": "ac721165",
   "metadata": {},
   "source": [
    "## Statistical Treatment for Retail Datasets"
   ]
  },
  {
   "cell_type": "code",
   "execution_count": 1,
   "id": "b8dd581c",
   "metadata": {},
   "outputs": [],
   "source": [
    "import math\n",
    "import statistics\n",
    "import numpy as np\n",
    "import scipy.stats\n",
    "import pandas as pd"
   ]
  },
  {
   "cell_type": "code",
   "execution_count": 2,
   "id": "18af8b68",
   "metadata": {},
   "outputs": [
    {
     "data": {
      "text/html": [
       "<div>\n",
       "<style scoped>\n",
       "    .dataframe tbody tr th:only-of-type {\n",
       "        vertical-align: middle;\n",
       "    }\n",
       "\n",
       "    .dataframe tbody tr th {\n",
       "        vertical-align: top;\n",
       "    }\n",
       "\n",
       "    .dataframe thead th {\n",
       "        text-align: right;\n",
       "    }\n",
       "</style>\n",
       "<table border=\"1\" class=\"dataframe\">\n",
       "  <thead>\n",
       "    <tr style=\"text-align: right;\">\n",
       "      <th></th>\n",
       "      <th>Unnamed: 0</th>\n",
       "      <th>BOROUGH</th>\n",
       "      <th>NEIGHBORHOOD</th>\n",
       "      <th>BUILDING CLASS CATEGORY</th>\n",
       "      <th>TAX CLASS AT PRESENT</th>\n",
       "      <th>BLOCK</th>\n",
       "      <th>LOT</th>\n",
       "      <th>EASE-MENT</th>\n",
       "      <th>BUILDING CLASS AT PRESENT</th>\n",
       "      <th>ADDRESS</th>\n",
       "      <th>...</th>\n",
       "      <th>RESIDENTIAL UNITS</th>\n",
       "      <th>COMMERCIAL UNITS</th>\n",
       "      <th>TOTAL UNITS</th>\n",
       "      <th>LAND SQUARE FEET</th>\n",
       "      <th>GROSS SQUARE FEET</th>\n",
       "      <th>YEAR BUILT</th>\n",
       "      <th>TAX CLASS AT TIME OF SALE</th>\n",
       "      <th>BUILDING CLASS AT TIME OF SALE</th>\n",
       "      <th>SALE PRICE</th>\n",
       "      <th>SALE DATE</th>\n",
       "    </tr>\n",
       "  </thead>\n",
       "  <tbody>\n",
       "    <tr>\n",
       "      <th>0</th>\n",
       "      <td>4</td>\n",
       "      <td>1</td>\n",
       "      <td>ALPHABET CITY</td>\n",
       "      <td>07 RENTALS - WALKUP APARTMENTS</td>\n",
       "      <td>2A</td>\n",
       "      <td>392</td>\n",
       "      <td>6</td>\n",
       "      <td></td>\n",
       "      <td>C2</td>\n",
       "      <td>153 AVENUE B</td>\n",
       "      <td>...</td>\n",
       "      <td>5</td>\n",
       "      <td>0</td>\n",
       "      <td>5</td>\n",
       "      <td>1633</td>\n",
       "      <td>6440</td>\n",
       "      <td>1900</td>\n",
       "      <td>2</td>\n",
       "      <td>C2</td>\n",
       "      <td>6625000</td>\n",
       "      <td>2017-07-19 00:00:00</td>\n",
       "    </tr>\n",
       "    <tr>\n",
       "      <th>1</th>\n",
       "      <td>5</td>\n",
       "      <td>1</td>\n",
       "      <td>ALPHABET CITY</td>\n",
       "      <td>07 RENTALS - WALKUP APARTMENTS</td>\n",
       "      <td>2</td>\n",
       "      <td>399</td>\n",
       "      <td>26</td>\n",
       "      <td></td>\n",
       "      <td>C7</td>\n",
       "      <td>234 EAST 4TH   STREET</td>\n",
       "      <td>...</td>\n",
       "      <td>28</td>\n",
       "      <td>3</td>\n",
       "      <td>31</td>\n",
       "      <td>4616</td>\n",
       "      <td>18690</td>\n",
       "      <td>1900</td>\n",
       "      <td>2</td>\n",
       "      <td>C7</td>\n",
       "      <td>-</td>\n",
       "      <td>2016-12-14 00:00:00</td>\n",
       "    </tr>\n",
       "    <tr>\n",
       "      <th>2</th>\n",
       "      <td>6</td>\n",
       "      <td>1</td>\n",
       "      <td>ALPHABET CITY</td>\n",
       "      <td>07 RENTALS - WALKUP APARTMENTS</td>\n",
       "      <td>2</td>\n",
       "      <td>399</td>\n",
       "      <td>39</td>\n",
       "      <td></td>\n",
       "      <td>C7</td>\n",
       "      <td>197 EAST 3RD   STREET</td>\n",
       "      <td>...</td>\n",
       "      <td>16</td>\n",
       "      <td>1</td>\n",
       "      <td>17</td>\n",
       "      <td>2212</td>\n",
       "      <td>7803</td>\n",
       "      <td>1900</td>\n",
       "      <td>2</td>\n",
       "      <td>C7</td>\n",
       "      <td>-</td>\n",
       "      <td>2016-12-09 00:00:00</td>\n",
       "    </tr>\n",
       "    <tr>\n",
       "      <th>3</th>\n",
       "      <td>7</td>\n",
       "      <td>1</td>\n",
       "      <td>ALPHABET CITY</td>\n",
       "      <td>07 RENTALS - WALKUP APARTMENTS</td>\n",
       "      <td>2B</td>\n",
       "      <td>402</td>\n",
       "      <td>21</td>\n",
       "      <td></td>\n",
       "      <td>C4</td>\n",
       "      <td>154 EAST 7TH STREET</td>\n",
       "      <td>...</td>\n",
       "      <td>10</td>\n",
       "      <td>0</td>\n",
       "      <td>10</td>\n",
       "      <td>2272</td>\n",
       "      <td>6794</td>\n",
       "      <td>1913</td>\n",
       "      <td>2</td>\n",
       "      <td>C4</td>\n",
       "      <td>3936272</td>\n",
       "      <td>2016-09-23 00:00:00</td>\n",
       "    </tr>\n",
       "    <tr>\n",
       "      <th>4</th>\n",
       "      <td>8</td>\n",
       "      <td>1</td>\n",
       "      <td>ALPHABET CITY</td>\n",
       "      <td>07 RENTALS - WALKUP APARTMENTS</td>\n",
       "      <td>2A</td>\n",
       "      <td>404</td>\n",
       "      <td>55</td>\n",
       "      <td></td>\n",
       "      <td>C2</td>\n",
       "      <td>301 EAST 10TH   STREET</td>\n",
       "      <td>...</td>\n",
       "      <td>6</td>\n",
       "      <td>0</td>\n",
       "      <td>6</td>\n",
       "      <td>2369</td>\n",
       "      <td>4615</td>\n",
       "      <td>1900</td>\n",
       "      <td>2</td>\n",
       "      <td>C2</td>\n",
       "      <td>8000000</td>\n",
       "      <td>2016-11-17 00:00:00</td>\n",
       "    </tr>\n",
       "  </tbody>\n",
       "</table>\n",
       "<p>5 rows × 22 columns</p>\n",
       "</div>"
      ],
      "text/plain": [
       "   Unnamed: 0  BOROUGH   NEIGHBORHOOD  \\\n",
       "0           4        1  ALPHABET CITY   \n",
       "1           5        1  ALPHABET CITY   \n",
       "2           6        1  ALPHABET CITY   \n",
       "3           7        1  ALPHABET CITY   \n",
       "4           8        1  ALPHABET CITY   \n",
       "\n",
       "                       BUILDING CLASS CATEGORY TAX CLASS AT PRESENT  BLOCK  \\\n",
       "0  07 RENTALS - WALKUP APARTMENTS                                2A    392   \n",
       "1  07 RENTALS - WALKUP APARTMENTS                                 2    399   \n",
       "2  07 RENTALS - WALKUP APARTMENTS                                 2    399   \n",
       "3  07 RENTALS - WALKUP APARTMENTS                                2B    402   \n",
       "4  07 RENTALS - WALKUP APARTMENTS                                2A    404   \n",
       "\n",
       "   LOT EASE-MENT BUILDING CLASS AT PRESENT                 ADDRESS  ...  \\\n",
       "0    6                                  C2            153 AVENUE B  ...   \n",
       "1   26                                  C7   234 EAST 4TH   STREET  ...   \n",
       "2   39                                  C7   197 EAST 3RD   STREET  ...   \n",
       "3   21                                  C4     154 EAST 7TH STREET  ...   \n",
       "4   55                                  C2  301 EAST 10TH   STREET  ...   \n",
       "\n",
       "  RESIDENTIAL UNITS  COMMERCIAL UNITS  TOTAL UNITS  LAND SQUARE FEET  \\\n",
       "0                 5                 0            5              1633   \n",
       "1                28                 3           31              4616   \n",
       "2                16                 1           17              2212   \n",
       "3                10                 0           10              2272   \n",
       "4                 6                 0            6              2369   \n",
       "\n",
       "   GROSS SQUARE FEET YEAR BUILT TAX CLASS AT TIME OF SALE  \\\n",
       "0               6440       1900                         2   \n",
       "1              18690       1900                         2   \n",
       "2               7803       1900                         2   \n",
       "3               6794       1913                         2   \n",
       "4               4615       1900                         2   \n",
       "\n",
       "   BUILDING CLASS AT TIME OF SALE  SALE PRICE            SALE DATE  \n",
       "0                              C2     6625000  2017-07-19 00:00:00  \n",
       "1                              C7         -    2016-12-14 00:00:00  \n",
       "2                              C7         -    2016-12-09 00:00:00  \n",
       "3                              C4     3936272  2016-09-23 00:00:00  \n",
       "4                              C2     8000000  2016-11-17 00:00:00  \n",
       "\n",
       "[5 rows x 22 columns]"
      ]
     },
     "execution_count": 2,
     "metadata": {},
     "output_type": "execute_result"
    }
   ],
   "source": [
    "# Mendownload datasets\n",
    "df_NYC = pd.read_csv('nyc-rolling-sales.csv')\n",
    "\n",
    "df_NYC.head()"
   ]
  },
  {
   "cell_type": "code",
   "execution_count": 3,
   "id": "27036247",
   "metadata": {},
   "outputs": [
    {
     "data": {
      "text/plain": [
       "(84548, 22)"
      ]
     },
     "execution_count": 3,
     "metadata": {},
     "output_type": "execute_result"
    }
   ],
   "source": [
    "# Mengetahui jumlah data dan kolom\n",
    "df_NYC.shape"
   ]
  },
  {
   "cell_type": "code",
   "execution_count": 4,
   "id": "c8f9ca64",
   "metadata": {},
   "outputs": [
    {
     "data": {
      "text/plain": [
       "<bound method NDFrame._add_numeric_operations.<locals>.sum of        Unnamed: 0  BOROUGH  NEIGHBORHOOD  BUILDING CLASS CATEGORY  \\\n",
       "0           False    False         False                    False   \n",
       "1           False    False         False                    False   \n",
       "2           False    False         False                    False   \n",
       "3           False    False         False                    False   \n",
       "4           False    False         False                    False   \n",
       "...           ...      ...           ...                      ...   \n",
       "84543       False    False         False                    False   \n",
       "84544       False    False         False                    False   \n",
       "84545       False    False         False                    False   \n",
       "84546       False    False         False                    False   \n",
       "84547       False    False         False                    False   \n",
       "\n",
       "       TAX CLASS AT PRESENT  BLOCK    LOT  EASE-MENT  \\\n",
       "0                     False  False  False      False   \n",
       "1                     False  False  False      False   \n",
       "2                     False  False  False      False   \n",
       "3                     False  False  False      False   \n",
       "4                     False  False  False      False   \n",
       "...                     ...    ...    ...        ...   \n",
       "84543                 False  False  False      False   \n",
       "84544                 False  False  False      False   \n",
       "84545                 False  False  False      False   \n",
       "84546                 False  False  False      False   \n",
       "84547                 False  False  False      False   \n",
       "\n",
       "       BUILDING CLASS AT PRESENT  ADDRESS  ...  RESIDENTIAL UNITS  \\\n",
       "0                          False    False  ...              False   \n",
       "1                          False    False  ...              False   \n",
       "2                          False    False  ...              False   \n",
       "3                          False    False  ...              False   \n",
       "4                          False    False  ...              False   \n",
       "...                          ...      ...  ...                ...   \n",
       "84543                      False    False  ...              False   \n",
       "84544                      False    False  ...              False   \n",
       "84545                      False    False  ...              False   \n",
       "84546                      False    False  ...              False   \n",
       "84547                      False    False  ...              False   \n",
       "\n",
       "       COMMERCIAL UNITS  TOTAL UNITS  LAND SQUARE FEET  GROSS SQUARE FEET  \\\n",
       "0                 False        False             False              False   \n",
       "1                 False        False             False              False   \n",
       "2                 False        False             False              False   \n",
       "3                 False        False             False              False   \n",
       "4                 False        False             False              False   \n",
       "...                 ...          ...               ...                ...   \n",
       "84543             False        False             False              False   \n",
       "84544             False        False             False              False   \n",
       "84545             False        False             False              False   \n",
       "84546             False        False             False              False   \n",
       "84547             False        False             False              False   \n",
       "\n",
       "       YEAR BUILT  TAX CLASS AT TIME OF SALE  BUILDING CLASS AT TIME OF SALE  \\\n",
       "0           False                      False                           False   \n",
       "1           False                      False                           False   \n",
       "2           False                      False                           False   \n",
       "3           False                      False                           False   \n",
       "4           False                      False                           False   \n",
       "...           ...                        ...                             ...   \n",
       "84543       False                      False                           False   \n",
       "84544       False                      False                           False   \n",
       "84545       False                      False                           False   \n",
       "84546       False                      False                           False   \n",
       "84547       False                      False                           False   \n",
       "\n",
       "       SALE PRICE  SALE DATE  \n",
       "0           False      False  \n",
       "1           False      False  \n",
       "2           False      False  \n",
       "3           False      False  \n",
       "4           False      False  \n",
       "...           ...        ...  \n",
       "84543       False      False  \n",
       "84544       False      False  \n",
       "84545       False      False  \n",
       "84546       False      False  \n",
       "84547       False      False  \n",
       "\n",
       "[84548 rows x 22 columns]>"
      ]
     },
     "execution_count": 4,
     "metadata": {},
     "output_type": "execute_result"
    }
   ],
   "source": [
    "# Cleansing data dengan standar missing value\n",
    "df_NYC.isnull().sum"
   ]
  },
  {
   "cell_type": "code",
   "execution_count": 5,
   "id": "917b4306",
   "metadata": {},
   "outputs": [
    {
     "data": {
      "text/plain": [
       "False"
      ]
     },
     "execution_count": 5,
     "metadata": {},
     "output_type": "execute_result"
    }
   ],
   "source": [
    "df_NYC.isnull().values.any()"
   ]
  },
  {
   "cell_type": "markdown",
   "id": "96fd394d",
   "metadata": {},
   "source": [
    "##### Berdasarkan keterangan di atas, data yang akan dipakai sudah bersih, tidak ada data yang hilang atau rusak, sehingga data dapat diolah."
   ]
  },
  {
   "cell_type": "code",
   "execution_count": 6,
   "id": "5a200c5d",
   "metadata": {},
   "outputs": [
    {
     "name": "stdout",
     "output_type": "stream",
     "text": [
      "<class 'pandas.core.frame.DataFrame'>\n",
      "RangeIndex: 84548 entries, 0 to 84547\n",
      "Data columns (total 22 columns):\n",
      " #   Column                          Non-Null Count  Dtype \n",
      "---  ------                          --------------  ----- \n",
      " 0   Unnamed: 0                      84548 non-null  int64 \n",
      " 1   BOROUGH                         84548 non-null  int64 \n",
      " 2   NEIGHBORHOOD                    84548 non-null  object\n",
      " 3   BUILDING CLASS CATEGORY         84548 non-null  object\n",
      " 4   TAX CLASS AT PRESENT            84548 non-null  object\n",
      " 5   BLOCK                           84548 non-null  int64 \n",
      " 6   LOT                             84548 non-null  int64 \n",
      " 7   EASE-MENT                       84548 non-null  object\n",
      " 8   BUILDING CLASS AT PRESENT       84548 non-null  object\n",
      " 9   ADDRESS                         84548 non-null  object\n",
      " 10  APARTMENT NUMBER                84548 non-null  object\n",
      " 11  ZIP CODE                        84548 non-null  int64 \n",
      " 12  RESIDENTIAL UNITS               84548 non-null  int64 \n",
      " 13  COMMERCIAL UNITS                84548 non-null  int64 \n",
      " 14  TOTAL UNITS                     84548 non-null  int64 \n",
      " 15  LAND SQUARE FEET                84548 non-null  object\n",
      " 16  GROSS SQUARE FEET               84548 non-null  object\n",
      " 17  YEAR BUILT                      84548 non-null  int64 \n",
      " 18  TAX CLASS AT TIME OF SALE       84548 non-null  int64 \n",
      " 19  BUILDING CLASS AT TIME OF SALE  84548 non-null  object\n",
      " 20  SALE PRICE                      84548 non-null  object\n",
      " 21  SALE DATE                       84548 non-null  object\n",
      "dtypes: int64(10), object(12)\n",
      "memory usage: 14.2+ MB\n"
     ]
    }
   ],
   "source": [
    "# Melihat informasi tipa data setiap kolom\n",
    "df_NYC.info()"
   ]
  },
  {
   "cell_type": "markdown",
   "id": "f65de95f",
   "metadata": {},
   "source": [
    "##### Berdasarkan keterangan di atas, dapat diketahui bahwa dara berjumlah 22 kolom dan 84548 baris, dengan tipe data int64 (10) dan object(12) "
   ]
  },
  {
   "cell_type": "markdown",
   "id": "65fea4cd",
   "metadata": {},
   "source": [
    "### Dataset ini berisi tentang catatan penjualan properti di New York selama periode 12 bulan, terkait harga properti tersebut terjual, berisi lokasi, alamat, jenis, harga jual, dan tanggal penjualan unit bangunan yang terjual. Referensi di bidang yang lebih rumit:\n",
    "- Borough: Kode digit untuk borough tempat properti berada; dalam urutan ini adalah Manhattan (1), Bronx (2), Brooklyn (3), Queens (4), dan Staten Island (5)\n",
    "- Block; Lot: Kombinasi borough, block, dan lot membentuk kunci unik untuk properti di New York City. Biasa disebut BBL.\n",
    "- Kelas Bangunan saat ini dan Kelas Bangunan saat dijual: Jenis bangunan pada berbagai titik waktu\n",
    "\n",
    "#### Dari kumpulan data di atas akan dianalisis menggunakan statistika deskriptif dan inferensial yang berguna untuk mendapatkan informasi tentang penjualan properti di New York."
   ]
  },
  {
   "cell_type": "code",
   "execution_count": 7,
   "id": "7cde0ed6",
   "metadata": {
    "scrolled": true
   },
   "outputs": [
    {
     "data": {
      "text/html": [
       "<div>\n",
       "<style scoped>\n",
       "    .dataframe tbody tr th:only-of-type {\n",
       "        vertical-align: middle;\n",
       "    }\n",
       "\n",
       "    .dataframe tbody tr th {\n",
       "        vertical-align: top;\n",
       "    }\n",
       "\n",
       "    .dataframe thead th {\n",
       "        text-align: right;\n",
       "    }\n",
       "</style>\n",
       "<table border=\"1\" class=\"dataframe\">\n",
       "  <thead>\n",
       "    <tr style=\"text-align: right;\">\n",
       "      <th></th>\n",
       "      <th>Unnamed: 0</th>\n",
       "      <th>BOROUGH</th>\n",
       "      <th>NEIGHBORHOOD</th>\n",
       "      <th>BUILDING CLASS CATEGORY</th>\n",
       "      <th>TAX CLASS AT PRESENT</th>\n",
       "      <th>BLOCK</th>\n",
       "      <th>LOT</th>\n",
       "      <th>EASE-MENT</th>\n",
       "      <th>BUILDING CLASS AT PRESENT</th>\n",
       "      <th>ADDRESS</th>\n",
       "      <th>...</th>\n",
       "      <th>RESIDENTIAL UNITS</th>\n",
       "      <th>COMMERCIAL UNITS</th>\n",
       "      <th>TOTAL UNITS</th>\n",
       "      <th>LAND SQUARE FEET</th>\n",
       "      <th>GROSS SQUARE FEET</th>\n",
       "      <th>YEAR BUILT</th>\n",
       "      <th>TAX CLASS AT TIME OF SALE</th>\n",
       "      <th>BUILDING CLASS AT TIME OF SALE</th>\n",
       "      <th>SALE PRICE</th>\n",
       "      <th>SALE DATE</th>\n",
       "    </tr>\n",
       "  </thead>\n",
       "  <tbody>\n",
       "    <tr>\n",
       "      <th>0</th>\n",
       "      <td>4</td>\n",
       "      <td>1</td>\n",
       "      <td>ALPHABET CITY</td>\n",
       "      <td>07 RENTALS - WALKUP APARTMENTS</td>\n",
       "      <td>2A</td>\n",
       "      <td>392</td>\n",
       "      <td>6</td>\n",
       "      <td></td>\n",
       "      <td>C2</td>\n",
       "      <td>153 AVENUE B</td>\n",
       "      <td>...</td>\n",
       "      <td>5</td>\n",
       "      <td>0</td>\n",
       "      <td>5</td>\n",
       "      <td>1633</td>\n",
       "      <td>6440</td>\n",
       "      <td>1900</td>\n",
       "      <td>2</td>\n",
       "      <td>C2</td>\n",
       "      <td>6625000</td>\n",
       "      <td>2017-07-19 00:00:00</td>\n",
       "    </tr>\n",
       "    <tr>\n",
       "      <th>1</th>\n",
       "      <td>5</td>\n",
       "      <td>1</td>\n",
       "      <td>ALPHABET CITY</td>\n",
       "      <td>07 RENTALS - WALKUP APARTMENTS</td>\n",
       "      <td>2</td>\n",
       "      <td>399</td>\n",
       "      <td>26</td>\n",
       "      <td></td>\n",
       "      <td>C7</td>\n",
       "      <td>234 EAST 4TH   STREET</td>\n",
       "      <td>...</td>\n",
       "      <td>28</td>\n",
       "      <td>3</td>\n",
       "      <td>31</td>\n",
       "      <td>4616</td>\n",
       "      <td>18690</td>\n",
       "      <td>1900</td>\n",
       "      <td>2</td>\n",
       "      <td>C7</td>\n",
       "      <td>-</td>\n",
       "      <td>2016-12-14 00:00:00</td>\n",
       "    </tr>\n",
       "    <tr>\n",
       "      <th>2</th>\n",
       "      <td>6</td>\n",
       "      <td>1</td>\n",
       "      <td>ALPHABET CITY</td>\n",
       "      <td>07 RENTALS - WALKUP APARTMENTS</td>\n",
       "      <td>2</td>\n",
       "      <td>399</td>\n",
       "      <td>39</td>\n",
       "      <td></td>\n",
       "      <td>C7</td>\n",
       "      <td>197 EAST 3RD   STREET</td>\n",
       "      <td>...</td>\n",
       "      <td>16</td>\n",
       "      <td>1</td>\n",
       "      <td>17</td>\n",
       "      <td>2212</td>\n",
       "      <td>7803</td>\n",
       "      <td>1900</td>\n",
       "      <td>2</td>\n",
       "      <td>C7</td>\n",
       "      <td>-</td>\n",
       "      <td>2016-12-09 00:00:00</td>\n",
       "    </tr>\n",
       "    <tr>\n",
       "      <th>3</th>\n",
       "      <td>7</td>\n",
       "      <td>1</td>\n",
       "      <td>ALPHABET CITY</td>\n",
       "      <td>07 RENTALS - WALKUP APARTMENTS</td>\n",
       "      <td>2B</td>\n",
       "      <td>402</td>\n",
       "      <td>21</td>\n",
       "      <td></td>\n",
       "      <td>C4</td>\n",
       "      <td>154 EAST 7TH STREET</td>\n",
       "      <td>...</td>\n",
       "      <td>10</td>\n",
       "      <td>0</td>\n",
       "      <td>10</td>\n",
       "      <td>2272</td>\n",
       "      <td>6794</td>\n",
       "      <td>1913</td>\n",
       "      <td>2</td>\n",
       "      <td>C4</td>\n",
       "      <td>3936272</td>\n",
       "      <td>2016-09-23 00:00:00</td>\n",
       "    </tr>\n",
       "    <tr>\n",
       "      <th>4</th>\n",
       "      <td>8</td>\n",
       "      <td>1</td>\n",
       "      <td>ALPHABET CITY</td>\n",
       "      <td>07 RENTALS - WALKUP APARTMENTS</td>\n",
       "      <td>2A</td>\n",
       "      <td>404</td>\n",
       "      <td>55</td>\n",
       "      <td></td>\n",
       "      <td>C2</td>\n",
       "      <td>301 EAST 10TH   STREET</td>\n",
       "      <td>...</td>\n",
       "      <td>6</td>\n",
       "      <td>0</td>\n",
       "      <td>6</td>\n",
       "      <td>2369</td>\n",
       "      <td>4615</td>\n",
       "      <td>1900</td>\n",
       "      <td>2</td>\n",
       "      <td>C2</td>\n",
       "      <td>8000000</td>\n",
       "      <td>2016-11-17 00:00:00</td>\n",
       "    </tr>\n",
       "  </tbody>\n",
       "</table>\n",
       "<p>5 rows × 22 columns</p>\n",
       "</div>"
      ],
      "text/plain": [
       "   Unnamed: 0  BOROUGH   NEIGHBORHOOD  \\\n",
       "0           4        1  ALPHABET CITY   \n",
       "1           5        1  ALPHABET CITY   \n",
       "2           6        1  ALPHABET CITY   \n",
       "3           7        1  ALPHABET CITY   \n",
       "4           8        1  ALPHABET CITY   \n",
       "\n",
       "                       BUILDING CLASS CATEGORY TAX CLASS AT PRESENT  BLOCK  \\\n",
       "0  07 RENTALS - WALKUP APARTMENTS                                2A    392   \n",
       "1  07 RENTALS - WALKUP APARTMENTS                                 2    399   \n",
       "2  07 RENTALS - WALKUP APARTMENTS                                 2    399   \n",
       "3  07 RENTALS - WALKUP APARTMENTS                                2B    402   \n",
       "4  07 RENTALS - WALKUP APARTMENTS                                2A    404   \n",
       "\n",
       "   LOT EASE-MENT BUILDING CLASS AT PRESENT                 ADDRESS  ...  \\\n",
       "0    6                                  C2            153 AVENUE B  ...   \n",
       "1   26                                  C7   234 EAST 4TH   STREET  ...   \n",
       "2   39                                  C7   197 EAST 3RD   STREET  ...   \n",
       "3   21                                  C4     154 EAST 7TH STREET  ...   \n",
       "4   55                                  C2  301 EAST 10TH   STREET  ...   \n",
       "\n",
       "  RESIDENTIAL UNITS  COMMERCIAL UNITS  TOTAL UNITS  LAND SQUARE FEET  \\\n",
       "0                 5                 0            5              1633   \n",
       "1                28                 3           31              4616   \n",
       "2                16                 1           17              2212   \n",
       "3                10                 0           10              2272   \n",
       "4                 6                 0            6              2369   \n",
       "\n",
       "   GROSS SQUARE FEET YEAR BUILT TAX CLASS AT TIME OF SALE  \\\n",
       "0               6440       1900                         2   \n",
       "1              18690       1900                         2   \n",
       "2               7803       1900                         2   \n",
       "3               6794       1913                         2   \n",
       "4               4615       1900                         2   \n",
       "\n",
       "   BUILDING CLASS AT TIME OF SALE  SALE PRICE            SALE DATE  \n",
       "0                              C2     6625000  2017-07-19 00:00:00  \n",
       "1                              C7         -    2016-12-14 00:00:00  \n",
       "2                              C7         -    2016-12-09 00:00:00  \n",
       "3                              C4     3936272  2016-09-23 00:00:00  \n",
       "4                              C2     8000000  2016-11-17 00:00:00  \n",
       "\n",
       "[5 rows x 22 columns]"
      ]
     },
     "execution_count": 7,
     "metadata": {},
     "output_type": "execute_result"
    }
   ],
   "source": [
    "# Melihat 5 data teratas dan menampilkan semua kolom\n",
    "df_NYC.head(5)"
   ]
  },
  {
   "cell_type": "code",
   "execution_count": 8,
   "id": "5904288d",
   "metadata": {},
   "outputs": [
    {
     "data": {
      "text/html": [
       "<div>\n",
       "<style scoped>\n",
       "    .dataframe tbody tr th:only-of-type {\n",
       "        vertical-align: middle;\n",
       "    }\n",
       "\n",
       "    .dataframe tbody tr th {\n",
       "        vertical-align: top;\n",
       "    }\n",
       "\n",
       "    .dataframe thead th {\n",
       "        text-align: right;\n",
       "    }\n",
       "</style>\n",
       "<table border=\"1\" class=\"dataframe\">\n",
       "  <thead>\n",
       "    <tr style=\"text-align: right;\">\n",
       "      <th></th>\n",
       "      <th>Unnamed: 0</th>\n",
       "      <th>BOROUGH</th>\n",
       "      <th>NEIGHBORHOOD</th>\n",
       "      <th>BUILDING CLASS CATEGORY</th>\n",
       "      <th>TAX CLASS AT PRESENT</th>\n",
       "      <th>BLOCK</th>\n",
       "      <th>LOT</th>\n",
       "      <th>EASE-MENT</th>\n",
       "      <th>BUILDING CLASS AT PRESENT</th>\n",
       "      <th>ADDRESS</th>\n",
       "      <th>...</th>\n",
       "      <th>RESIDENTIAL UNITS</th>\n",
       "      <th>COMMERCIAL UNITS</th>\n",
       "      <th>TOTAL UNITS</th>\n",
       "      <th>LAND SQUARE FEET</th>\n",
       "      <th>GROSS SQUARE FEET</th>\n",
       "      <th>YEAR BUILT</th>\n",
       "      <th>TAX CLASS AT TIME OF SALE</th>\n",
       "      <th>BUILDING CLASS AT TIME OF SALE</th>\n",
       "      <th>SALE PRICE</th>\n",
       "      <th>SALE DATE</th>\n",
       "    </tr>\n",
       "  </thead>\n",
       "  <tbody>\n",
       "    <tr>\n",
       "      <th>84543</th>\n",
       "      <td>8409</td>\n",
       "      <td>5</td>\n",
       "      <td>WOODROW</td>\n",
       "      <td>02 TWO FAMILY DWELLINGS</td>\n",
       "      <td>1</td>\n",
       "      <td>7349</td>\n",
       "      <td>34</td>\n",
       "      <td></td>\n",
       "      <td>B9</td>\n",
       "      <td>37 QUAIL LANE</td>\n",
       "      <td>...</td>\n",
       "      <td>2</td>\n",
       "      <td>0</td>\n",
       "      <td>2</td>\n",
       "      <td>2400</td>\n",
       "      <td>2575</td>\n",
       "      <td>1998</td>\n",
       "      <td>1</td>\n",
       "      <td>B9</td>\n",
       "      <td>450000</td>\n",
       "      <td>2016-11-28 00:00:00</td>\n",
       "    </tr>\n",
       "    <tr>\n",
       "      <th>84544</th>\n",
       "      <td>8410</td>\n",
       "      <td>5</td>\n",
       "      <td>WOODROW</td>\n",
       "      <td>02 TWO FAMILY DWELLINGS</td>\n",
       "      <td>1</td>\n",
       "      <td>7349</td>\n",
       "      <td>78</td>\n",
       "      <td></td>\n",
       "      <td>B9</td>\n",
       "      <td>32 PHEASANT LANE</td>\n",
       "      <td>...</td>\n",
       "      <td>2</td>\n",
       "      <td>0</td>\n",
       "      <td>2</td>\n",
       "      <td>2498</td>\n",
       "      <td>2377</td>\n",
       "      <td>1998</td>\n",
       "      <td>1</td>\n",
       "      <td>B9</td>\n",
       "      <td>550000</td>\n",
       "      <td>2017-04-21 00:00:00</td>\n",
       "    </tr>\n",
       "    <tr>\n",
       "      <th>84545</th>\n",
       "      <td>8411</td>\n",
       "      <td>5</td>\n",
       "      <td>WOODROW</td>\n",
       "      <td>02 TWO FAMILY DWELLINGS</td>\n",
       "      <td>1</td>\n",
       "      <td>7351</td>\n",
       "      <td>60</td>\n",
       "      <td></td>\n",
       "      <td>B2</td>\n",
       "      <td>49 PITNEY AVENUE</td>\n",
       "      <td>...</td>\n",
       "      <td>2</td>\n",
       "      <td>0</td>\n",
       "      <td>2</td>\n",
       "      <td>4000</td>\n",
       "      <td>1496</td>\n",
       "      <td>1925</td>\n",
       "      <td>1</td>\n",
       "      <td>B2</td>\n",
       "      <td>460000</td>\n",
       "      <td>2017-07-05 00:00:00</td>\n",
       "    </tr>\n",
       "    <tr>\n",
       "      <th>84546</th>\n",
       "      <td>8412</td>\n",
       "      <td>5</td>\n",
       "      <td>WOODROW</td>\n",
       "      <td>22 STORE BUILDINGS</td>\n",
       "      <td>4</td>\n",
       "      <td>7100</td>\n",
       "      <td>28</td>\n",
       "      <td></td>\n",
       "      <td>K6</td>\n",
       "      <td>2730 ARTHUR KILL ROAD</td>\n",
       "      <td>...</td>\n",
       "      <td>0</td>\n",
       "      <td>7</td>\n",
       "      <td>7</td>\n",
       "      <td>208033</td>\n",
       "      <td>64117</td>\n",
       "      <td>2001</td>\n",
       "      <td>4</td>\n",
       "      <td>K6</td>\n",
       "      <td>11693337</td>\n",
       "      <td>2016-12-21 00:00:00</td>\n",
       "    </tr>\n",
       "    <tr>\n",
       "      <th>84547</th>\n",
       "      <td>8413</td>\n",
       "      <td>5</td>\n",
       "      <td>WOODROW</td>\n",
       "      <td>35 INDOOR PUBLIC AND CULTURAL FACILITIES</td>\n",
       "      <td>4</td>\n",
       "      <td>7105</td>\n",
       "      <td>679</td>\n",
       "      <td></td>\n",
       "      <td>P9</td>\n",
       "      <td>155 CLAY PIT ROAD</td>\n",
       "      <td>...</td>\n",
       "      <td>0</td>\n",
       "      <td>1</td>\n",
       "      <td>1</td>\n",
       "      <td>10796</td>\n",
       "      <td>2400</td>\n",
       "      <td>2006</td>\n",
       "      <td>4</td>\n",
       "      <td>P9</td>\n",
       "      <td>69300</td>\n",
       "      <td>2016-10-27 00:00:00</td>\n",
       "    </tr>\n",
       "  </tbody>\n",
       "</table>\n",
       "<p>5 rows × 22 columns</p>\n",
       "</div>"
      ],
      "text/plain": [
       "       Unnamed: 0  BOROUGH NEIGHBORHOOD  \\\n",
       "84543        8409        5      WOODROW   \n",
       "84544        8410        5      WOODROW   \n",
       "84545        8411        5      WOODROW   \n",
       "84546        8412        5      WOODROW   \n",
       "84547        8413        5      WOODROW   \n",
       "\n",
       "                           BUILDING CLASS CATEGORY TAX CLASS AT PRESENT  \\\n",
       "84543  02 TWO FAMILY DWELLINGS                                        1   \n",
       "84544  02 TWO FAMILY DWELLINGS                                        1   \n",
       "84545  02 TWO FAMILY DWELLINGS                                        1   \n",
       "84546  22 STORE BUILDINGS                                             4   \n",
       "84547  35 INDOOR PUBLIC AND CULTURAL FACILITIES                       4   \n",
       "\n",
       "       BLOCK  LOT EASE-MENT BUILDING CLASS AT PRESENT                ADDRESS  \\\n",
       "84543   7349   34                                  B9          37 QUAIL LANE   \n",
       "84544   7349   78                                  B9       32 PHEASANT LANE   \n",
       "84545   7351   60                                  B2       49 PITNEY AVENUE   \n",
       "84546   7100   28                                  K6  2730 ARTHUR KILL ROAD   \n",
       "84547   7105  679                                  P9      155 CLAY PIT ROAD   \n",
       "\n",
       "       ... RESIDENTIAL UNITS  COMMERCIAL UNITS  TOTAL UNITS  LAND SQUARE FEET  \\\n",
       "84543  ...                 2                 0            2              2400   \n",
       "84544  ...                 2                 0            2              2498   \n",
       "84545  ...                 2                 0            2              4000   \n",
       "84546  ...                 0                 7            7            208033   \n",
       "84547  ...                 0                 1            1             10796   \n",
       "\n",
       "       GROSS SQUARE FEET YEAR BUILT TAX CLASS AT TIME OF SALE  \\\n",
       "84543               2575       1998                         1   \n",
       "84544               2377       1998                         1   \n",
       "84545               1496       1925                         1   \n",
       "84546              64117       2001                         4   \n",
       "84547               2400       2006                         4   \n",
       "\n",
       "       BUILDING CLASS AT TIME OF SALE  SALE PRICE            SALE DATE  \n",
       "84543                              B9      450000  2016-11-28 00:00:00  \n",
       "84544                              B9      550000  2017-04-21 00:00:00  \n",
       "84545                              B2      460000  2017-07-05 00:00:00  \n",
       "84546                              K6    11693337  2016-12-21 00:00:00  \n",
       "84547                              P9       69300  2016-10-27 00:00:00  \n",
       "\n",
       "[5 rows x 22 columns]"
      ]
     },
     "execution_count": 8,
     "metadata": {},
     "output_type": "execute_result"
    }
   ],
   "source": [
    "# Melihat 5 data terbawah\n",
    "df_NYC.tail(5)"
   ]
  },
  {
   "cell_type": "code",
   "execution_count": 9,
   "id": "ab882172",
   "metadata": {},
   "outputs": [
    {
     "data": {
      "text/plain": [
       "array(['Unnamed: 0', 'BOROUGH', 'NEIGHBORHOOD', 'BUILDING CLASS CATEGORY',\n",
       "       'TAX CLASS AT PRESENT', 'BLOCK', 'LOT', 'EASE-MENT',\n",
       "       'BUILDING CLASS AT PRESENT', 'ADDRESS', 'APARTMENT NUMBER',\n",
       "       'ZIP CODE', 'RESIDENTIAL UNITS', 'COMMERCIAL UNITS', 'TOTAL UNITS',\n",
       "       'LAND SQUARE FEET', 'GROSS SQUARE FEET', 'YEAR BUILT',\n",
       "       'TAX CLASS AT TIME OF SALE', 'BUILDING CLASS AT TIME OF SALE',\n",
       "       'SALE PRICE', 'SALE DATE'], dtype=object)"
      ]
     },
     "execution_count": 9,
     "metadata": {},
     "output_type": "execute_result"
    }
   ],
   "source": [
    "# untuk mendapatkan list header kolom\n",
    "df_NYC.columns.values"
   ]
  },
  {
   "cell_type": "markdown",
   "id": "ec40c3ec",
   "metadata": {},
   "source": [
    "## Processing Data and Cleaning Data"
   ]
  },
  {
   "cell_type": "code",
   "execution_count": 10,
   "id": "962b0dfe",
   "metadata": {},
   "outputs": [],
   "source": [
    "df_NYC.drop(['Unnamed: 0', 'BLOCK', 'LOT', 'EASE-MENT', 'APARTMENT NUMBER', 'ADDRESS', 'ZIP CODE'], axis=1, inplace=True)"
   ]
  },
  {
   "cell_type": "code",
   "execution_count": 11,
   "id": "aca8d148",
   "metadata": {},
   "outputs": [],
   "source": [
    "# Membuat kolom baru yang berisi tanggal bulan, dan tahun\n",
    "\n",
    "df_NYC['SALE DATE'] = pd.to_datetime(df_NYC['SALE DATE'])\n",
    "df_NYC['SALE MONTH'] = df_NYC['SALE DATE'].dt.month_name\n",
    "df_NYC['SALE YEAR'] = df_NYC['SALE DATE'].dt.year"
   ]
  },
  {
   "cell_type": "code",
   "execution_count": 12,
   "id": "42ec9ec7",
   "metadata": {},
   "outputs": [],
   "source": [
    "# Mengubah tipe data kolom menjadi numeric\n",
    "df_NYC['LAND SQUARE FEET'] = pd.to_numeric(df_NYC['LAND SQUARE FEET'], errors = 'coerce')\n",
    "df_NYC['GROP SQUARE FEET'] = pd.to_numeric(df_NYC['GROSS SQUARE FEET'], errors = 'coerce')\n",
    "df_NYC['SALE PRICE'] = pd.to_numeric(df_NYC['SALE PRICE'], errors = 'coerce')"
   ]
  },
  {
   "cell_type": "code",
   "execution_count": 13,
   "id": "cc03804c",
   "metadata": {},
   "outputs": [
    {
     "data": {
      "text/html": [
       "<div>\n",
       "<style scoped>\n",
       "    .dataframe tbody tr th:only-of-type {\n",
       "        vertical-align: middle;\n",
       "    }\n",
       "\n",
       "    .dataframe tbody tr th {\n",
       "        vertical-align: top;\n",
       "    }\n",
       "\n",
       "    .dataframe thead th {\n",
       "        text-align: right;\n",
       "    }\n",
       "</style>\n",
       "<table border=\"1\" class=\"dataframe\">\n",
       "  <thead>\n",
       "    <tr style=\"text-align: right;\">\n",
       "      <th></th>\n",
       "      <th>missing_value_percentage</th>\n",
       "    </tr>\n",
       "  </thead>\n",
       "  <tbody>\n",
       "    <tr>\n",
       "      <th>BOROUGH</th>\n",
       "      <td>0.00</td>\n",
       "    </tr>\n",
       "    <tr>\n",
       "      <th>NEIGHBORHOOD</th>\n",
       "      <td>0.00</td>\n",
       "    </tr>\n",
       "    <tr>\n",
       "      <th>BUILDING CLASS CATEGORY</th>\n",
       "      <td>0.00</td>\n",
       "    </tr>\n",
       "    <tr>\n",
       "      <th>TAX CLASS AT PRESENT</th>\n",
       "      <td>0.00</td>\n",
       "    </tr>\n",
       "    <tr>\n",
       "      <th>BUILDING CLASS AT PRESENT</th>\n",
       "      <td>0.00</td>\n",
       "    </tr>\n",
       "    <tr>\n",
       "      <th>RESIDENTIAL UNITS</th>\n",
       "      <td>0.00</td>\n",
       "    </tr>\n",
       "    <tr>\n",
       "      <th>COMMERCIAL UNITS</th>\n",
       "      <td>0.00</td>\n",
       "    </tr>\n",
       "    <tr>\n",
       "      <th>TOTAL UNITS</th>\n",
       "      <td>0.00</td>\n",
       "    </tr>\n",
       "    <tr>\n",
       "      <th>LAND SQUARE FEET</th>\n",
       "      <td>31.05</td>\n",
       "    </tr>\n",
       "    <tr>\n",
       "      <th>GROSS SQUARE FEET</th>\n",
       "      <td>0.00</td>\n",
       "    </tr>\n",
       "    <tr>\n",
       "      <th>YEAR BUILT</th>\n",
       "      <td>0.00</td>\n",
       "    </tr>\n",
       "    <tr>\n",
       "      <th>TAX CLASS AT TIME OF SALE</th>\n",
       "      <td>0.00</td>\n",
       "    </tr>\n",
       "    <tr>\n",
       "      <th>BUILDING CLASS AT TIME OF SALE</th>\n",
       "      <td>0.00</td>\n",
       "    </tr>\n",
       "    <tr>\n",
       "      <th>SALE PRICE</th>\n",
       "      <td>17.22</td>\n",
       "    </tr>\n",
       "    <tr>\n",
       "      <th>SALE DATE</th>\n",
       "      <td>0.00</td>\n",
       "    </tr>\n",
       "    <tr>\n",
       "      <th>SALE MONTH</th>\n",
       "      <td>0.00</td>\n",
       "    </tr>\n",
       "    <tr>\n",
       "      <th>SALE YEAR</th>\n",
       "      <td>0.00</td>\n",
       "    </tr>\n",
       "    <tr>\n",
       "      <th>GROP SQUARE FEET</th>\n",
       "      <td>32.66</td>\n",
       "    </tr>\n",
       "  </tbody>\n",
       "</table>\n",
       "</div>"
      ],
      "text/plain": [
       "                                missing_value_percentage\n",
       "BOROUGH                                             0.00\n",
       "NEIGHBORHOOD                                        0.00\n",
       "BUILDING CLASS CATEGORY                             0.00\n",
       "TAX CLASS AT PRESENT                                0.00\n",
       "BUILDING CLASS AT PRESENT                           0.00\n",
       "RESIDENTIAL UNITS                                   0.00\n",
       "COMMERCIAL UNITS                                    0.00\n",
       "TOTAL UNITS                                         0.00\n",
       "LAND SQUARE FEET                                   31.05\n",
       "GROSS SQUARE FEET                                   0.00\n",
       "YEAR BUILT                                          0.00\n",
       "TAX CLASS AT TIME OF SALE                           0.00\n",
       "BUILDING CLASS AT TIME OF SALE                      0.00\n",
       "SALE PRICE                                         17.22\n",
       "SALE DATE                                           0.00\n",
       "SALE MONTH                                          0.00\n",
       "SALE YEAR                                           0.00\n",
       "GROP SQUARE FEET                                   32.66"
      ]
     },
     "execution_count": 13,
     "metadata": {},
     "output_type": "execute_result"
    }
   ],
   "source": [
    "# Cek Missing Value dan drop Missing Value pada Dataset NYC\n",
    "\n",
    "df_NaN = round((df_NYC.isnull().sum())/len(df_NYC)*100, 2)\n",
    "df_NaN = pd.DataFrame(df_NaN)\n",
    "df_NaN = df_NaN.rename(columns={0:'missing_value_percentage'})\n",
    "df_NaN"
   ]
  },
  {
   "cell_type": "code",
   "execution_count": 14,
   "id": "9d0d9753",
   "metadata": {},
   "outputs": [],
   "source": [
    "df_NYC = df_NYC.dropna()"
   ]
  },
  {
   "cell_type": "code",
   "execution_count": 15,
   "id": "34276277",
   "metadata": {},
   "outputs": [
    {
     "data": {
      "text/plain": [
       "<bound method NDFrame._add_numeric_operations.<locals>.any of        BOROUGH  NEIGHBORHOOD  BUILDING CLASS CATEGORY  TAX CLASS AT PRESENT  \\\n",
       "0        False         False                    False                 False   \n",
       "3        False         False                    False                 False   \n",
       "4        False         False                    False                 False   \n",
       "6        False         False                    False                 False   \n",
       "9        False         False                    False                 False   \n",
       "...        ...           ...                      ...                   ...   \n",
       "84543    False         False                    False                 False   \n",
       "84544    False         False                    False                 False   \n",
       "84545    False         False                    False                 False   \n",
       "84546    False         False                    False                 False   \n",
       "84547    False         False                    False                 False   \n",
       "\n",
       "       BUILDING CLASS AT PRESENT  RESIDENTIAL UNITS  COMMERCIAL UNITS  \\\n",
       "0                          False              False             False   \n",
       "3                          False              False             False   \n",
       "4                          False              False             False   \n",
       "6                          False              False             False   \n",
       "9                          False              False             False   \n",
       "...                          ...                ...               ...   \n",
       "84543                      False              False             False   \n",
       "84544                      False              False             False   \n",
       "84545                      False              False             False   \n",
       "84546                      False              False             False   \n",
       "84547                      False              False             False   \n",
       "\n",
       "       TOTAL UNITS  LAND SQUARE FEET  GROSS SQUARE FEET  YEAR BUILT  \\\n",
       "0            False             False              False       False   \n",
       "3            False             False              False       False   \n",
       "4            False             False              False       False   \n",
       "6            False             False              False       False   \n",
       "9            False             False              False       False   \n",
       "...            ...               ...                ...         ...   \n",
       "84543        False             False              False       False   \n",
       "84544        False             False              False       False   \n",
       "84545        False             False              False       False   \n",
       "84546        False             False              False       False   \n",
       "84547        False             False              False       False   \n",
       "\n",
       "       TAX CLASS AT TIME OF SALE  BUILDING CLASS AT TIME OF SALE  SALE PRICE  \\\n",
       "0                          False                           False       False   \n",
       "3                          False                           False       False   \n",
       "4                          False                           False       False   \n",
       "6                          False                           False       False   \n",
       "9                          False                           False       False   \n",
       "...                          ...                             ...         ...   \n",
       "84543                      False                           False       False   \n",
       "84544                      False                           False       False   \n",
       "84545                      False                           False       False   \n",
       "84546                      False                           False       False   \n",
       "84547                      False                           False       False   \n",
       "\n",
       "       SALE DATE  SALE MONTH  SALE YEAR  GROP SQUARE FEET  \n",
       "0          False       False      False             False  \n",
       "3          False       False      False             False  \n",
       "4          False       False      False             False  \n",
       "6          False       False      False             False  \n",
       "9          False       False      False             False  \n",
       "...          ...         ...        ...               ...  \n",
       "84543      False       False      False             False  \n",
       "84544      False       False      False             False  \n",
       "84545      False       False      False             False  \n",
       "84546      False       False      False             False  \n",
       "84547      False       False      False             False  \n",
       "\n",
       "[48244 rows x 18 columns]>"
      ]
     },
     "execution_count": 15,
     "metadata": {},
     "output_type": "execute_result"
    }
   ],
   "source": [
    "# Memeriksa apakah masih terdapat Missing Value pada Dataset\n",
    "df_NYC.isnull().any"
   ]
  },
  {
   "cell_type": "markdown",
   "id": "214a6e09",
   "metadata": {},
   "source": [
    "##### Berdasarkan output di atas maka dapat diketahui tidak ada nilai missing value pada dataset"
   ]
  },
  {
   "cell_type": "code",
   "execution_count": 16,
   "id": "f2ad0d20",
   "metadata": {},
   "outputs": [
    {
     "data": {
      "text/plain": [
       "959"
      ]
     },
     "execution_count": 16,
     "metadata": {},
     "output_type": "execute_result"
    }
   ],
   "source": [
    "# Memeriksa apakah ada duplicate pada dataset\n",
    "df_NYC.duplicated().sum()"
   ]
  },
  {
   "cell_type": "markdown",
   "id": "21effac8",
   "metadata": {},
   "source": [
    "##### Berdasarkan outpput di atas dapat diketahui terdapat 959 baris duplikasi, jadi baris tersebut akan dihapus dari dataset"
   ]
  },
  {
   "cell_type": "code",
   "execution_count": 17,
   "id": "4a17816b",
   "metadata": {},
   "outputs": [],
   "source": [
    "df_NYC = df_NYC.drop_duplicates(df_NYC.columns, keep='last')"
   ]
  },
  {
   "cell_type": "code",
   "execution_count": 18,
   "id": "06970168",
   "metadata": {},
   "outputs": [
    {
     "data": {
      "text/plain": [
       "0"
      ]
     },
     "execution_count": 18,
     "metadata": {},
     "output_type": "execute_result"
    }
   ],
   "source": [
    "df_NYC.duplicated().sum()"
   ]
  },
  {
   "cell_type": "markdown",
   "id": "18cbc65f",
   "metadata": {},
   "source": [
    "##### Berdasarkan output di atas maka dapat diketahui baris yang duplikasi sudah terhapus menjadi 0 baris."
   ]
  },
  {
   "cell_type": "code",
   "execution_count": 19,
   "id": "7716db63",
   "metadata": {},
   "outputs": [
    {
     "data": {
      "text/html": [
       "<div>\n",
       "<style scoped>\n",
       "    .dataframe tbody tr th:only-of-type {\n",
       "        vertical-align: middle;\n",
       "    }\n",
       "\n",
       "    .dataframe tbody tr th {\n",
       "        vertical-align: top;\n",
       "    }\n",
       "\n",
       "    .dataframe thead th {\n",
       "        text-align: right;\n",
       "    }\n",
       "</style>\n",
       "<table border=\"1\" class=\"dataframe\">\n",
       "  <thead>\n",
       "    <tr style=\"text-align: right;\">\n",
       "      <th></th>\n",
       "      <th>BOROUGH</th>\n",
       "      <th>NEIGHBORHOOD</th>\n",
       "      <th>BUILDING CLASS CATEGORY</th>\n",
       "      <th>TAX CLASS AT PRESENT</th>\n",
       "      <th>BUILDING CLASS AT PRESENT</th>\n",
       "      <th>RESIDENTIAL UNITS</th>\n",
       "      <th>COMMERCIAL UNITS</th>\n",
       "      <th>TOTAL UNITS</th>\n",
       "      <th>LAND SQUARE FEET</th>\n",
       "      <th>GROSS SQUARE FEET</th>\n",
       "      <th>YEAR BUILT</th>\n",
       "      <th>TAX CLASS AT TIME OF SALE</th>\n",
       "      <th>BUILDING CLASS AT TIME OF SALE</th>\n",
       "      <th>SALE PRICE</th>\n",
       "      <th>SALE DATE</th>\n",
       "      <th>SALE MONTH</th>\n",
       "      <th>SALE YEAR</th>\n",
       "      <th>GROP SQUARE FEET</th>\n",
       "    </tr>\n",
       "  </thead>\n",
       "  <tbody>\n",
       "    <tr>\n",
       "      <th>0</th>\n",
       "      <td>Manhattan</td>\n",
       "      <td>ALPHABET CITY</td>\n",
       "      <td>07 RENTALS - WALKUP APARTMENTS</td>\n",
       "      <td>2A</td>\n",
       "      <td>C2</td>\n",
       "      <td>5</td>\n",
       "      <td>0</td>\n",
       "      <td>5</td>\n",
       "      <td>1633.0</td>\n",
       "      <td>6440</td>\n",
       "      <td>1900</td>\n",
       "      <td>2</td>\n",
       "      <td>C2</td>\n",
       "      <td>6625000.0</td>\n",
       "      <td>2017-07-19</td>\n",
       "      <td>&lt;bound method PandasDelegate._add_delegate_acc...</td>\n",
       "      <td>2017</td>\n",
       "      <td>6440.0</td>\n",
       "    </tr>\n",
       "    <tr>\n",
       "      <th>3</th>\n",
       "      <td>Manhattan</td>\n",
       "      <td>ALPHABET CITY</td>\n",
       "      <td>07 RENTALS - WALKUP APARTMENTS</td>\n",
       "      <td>2B</td>\n",
       "      <td>C4</td>\n",
       "      <td>10</td>\n",
       "      <td>0</td>\n",
       "      <td>10</td>\n",
       "      <td>2272.0</td>\n",
       "      <td>6794</td>\n",
       "      <td>1913</td>\n",
       "      <td>2</td>\n",
       "      <td>C4</td>\n",
       "      <td>3936272.0</td>\n",
       "      <td>2016-09-23</td>\n",
       "      <td>&lt;bound method PandasDelegate._add_delegate_acc...</td>\n",
       "      <td>2016</td>\n",
       "      <td>6794.0</td>\n",
       "    </tr>\n",
       "    <tr>\n",
       "      <th>4</th>\n",
       "      <td>Manhattan</td>\n",
       "      <td>ALPHABET CITY</td>\n",
       "      <td>07 RENTALS - WALKUP APARTMENTS</td>\n",
       "      <td>2A</td>\n",
       "      <td>C2</td>\n",
       "      <td>6</td>\n",
       "      <td>0</td>\n",
       "      <td>6</td>\n",
       "      <td>2369.0</td>\n",
       "      <td>4615</td>\n",
       "      <td>1900</td>\n",
       "      <td>2</td>\n",
       "      <td>C2</td>\n",
       "      <td>8000000.0</td>\n",
       "      <td>2016-11-17</td>\n",
       "      <td>&lt;bound method PandasDelegate._add_delegate_acc...</td>\n",
       "      <td>2016</td>\n",
       "      <td>4615.0</td>\n",
       "    </tr>\n",
       "    <tr>\n",
       "      <th>6</th>\n",
       "      <td>Manhattan</td>\n",
       "      <td>ALPHABET CITY</td>\n",
       "      <td>07 RENTALS - WALKUP APARTMENTS</td>\n",
       "      <td>2B</td>\n",
       "      <td>C4</td>\n",
       "      <td>8</td>\n",
       "      <td>0</td>\n",
       "      <td>8</td>\n",
       "      <td>1750.0</td>\n",
       "      <td>4226</td>\n",
       "      <td>1920</td>\n",
       "      <td>2</td>\n",
       "      <td>C4</td>\n",
       "      <td>3192840.0</td>\n",
       "      <td>2016-09-23</td>\n",
       "      <td>&lt;bound method PandasDelegate._add_delegate_acc...</td>\n",
       "      <td>2016</td>\n",
       "      <td>4226.0</td>\n",
       "    </tr>\n",
       "    <tr>\n",
       "      <th>9</th>\n",
       "      <td>Manhattan</td>\n",
       "      <td>ALPHABET CITY</td>\n",
       "      <td>08 RENTALS - ELEVATOR APARTMENTS</td>\n",
       "      <td>2</td>\n",
       "      <td>D9</td>\n",
       "      <td>24</td>\n",
       "      <td>0</td>\n",
       "      <td>24</td>\n",
       "      <td>4489.0</td>\n",
       "      <td>18523</td>\n",
       "      <td>1920</td>\n",
       "      <td>2</td>\n",
       "      <td>D9</td>\n",
       "      <td>16232000.0</td>\n",
       "      <td>2016-11-07</td>\n",
       "      <td>&lt;bound method PandasDelegate._add_delegate_acc...</td>\n",
       "      <td>2016</td>\n",
       "      <td>18523.0</td>\n",
       "    </tr>\n",
       "  </tbody>\n",
       "</table>\n",
       "</div>"
      ],
      "text/plain": [
       "     BOROUGH   NEIGHBORHOOD                      BUILDING CLASS CATEGORY  \\\n",
       "0  Manhattan  ALPHABET CITY  07 RENTALS - WALKUP APARTMENTS                \n",
       "3  Manhattan  ALPHABET CITY  07 RENTALS - WALKUP APARTMENTS                \n",
       "4  Manhattan  ALPHABET CITY  07 RENTALS - WALKUP APARTMENTS                \n",
       "6  Manhattan  ALPHABET CITY  07 RENTALS - WALKUP APARTMENTS                \n",
       "9  Manhattan  ALPHABET CITY  08 RENTALS - ELEVATOR APARTMENTS              \n",
       "\n",
       "  TAX CLASS AT PRESENT BUILDING CLASS AT PRESENT  RESIDENTIAL UNITS  \\\n",
       "0                   2A                        C2                  5   \n",
       "3                   2B                        C4                 10   \n",
       "4                   2A                        C2                  6   \n",
       "6                   2B                        C4                  8   \n",
       "9                    2                        D9                 24   \n",
       "\n",
       "   COMMERCIAL UNITS  TOTAL UNITS  LAND SQUARE FEET GROSS SQUARE FEET  \\\n",
       "0                 0            5            1633.0              6440   \n",
       "3                 0           10            2272.0              6794   \n",
       "4                 0            6            2369.0              4615   \n",
       "6                 0            8            1750.0              4226   \n",
       "9                 0           24            4489.0             18523   \n",
       "\n",
       "   YEAR BUILT  TAX CLASS AT TIME OF SALE BUILDING CLASS AT TIME OF SALE  \\\n",
       "0        1900                          2                             C2   \n",
       "3        1913                          2                             C4   \n",
       "4        1900                          2                             C2   \n",
       "6        1920                          2                             C4   \n",
       "9        1920                          2                             D9   \n",
       "\n",
       "   SALE PRICE  SALE DATE                                         SALE MONTH  \\\n",
       "0   6625000.0 2017-07-19  <bound method PandasDelegate._add_delegate_acc...   \n",
       "3   3936272.0 2016-09-23  <bound method PandasDelegate._add_delegate_acc...   \n",
       "4   8000000.0 2016-11-17  <bound method PandasDelegate._add_delegate_acc...   \n",
       "6   3192840.0 2016-09-23  <bound method PandasDelegate._add_delegate_acc...   \n",
       "9  16232000.0 2016-11-07  <bound method PandasDelegate._add_delegate_acc...   \n",
       "\n",
       "   SALE YEAR  GROP SQUARE FEET  \n",
       "0       2017            6440.0  \n",
       "3       2016            6794.0  \n",
       "4       2016            4615.0  \n",
       "6       2016            4226.0  \n",
       "9       2016           18523.0  "
      ]
     },
     "execution_count": 19,
     "metadata": {},
     "output_type": "execute_result"
    }
   ],
   "source": [
    "# Mapping pada kolom BOROUGH, karena masih berupa kategori angka, maka akan diubah masing-masing angka berdasarkan nama borough pada angka tersebut.\n",
    "\n",
    "df_NYC['BOROUGH'] = df_NYC['BOROUGH'].map({1: 'Manhattan', 2:'Bronx', 3: 'Brooklyn', 4:'Queens',5:'Staten Island'})\n",
    "df_NYC.head()"
   ]
  },
  {
   "cell_type": "code",
   "execution_count": 20,
   "id": "d7cc3e31",
   "metadata": {},
   "outputs": [
    {
     "data": {
      "text/html": [
       "<div>\n",
       "<style scoped>\n",
       "    .dataframe tbody tr th:only-of-type {\n",
       "        vertical-align: middle;\n",
       "    }\n",
       "\n",
       "    .dataframe tbody tr th {\n",
       "        vertical-align: top;\n",
       "    }\n",
       "\n",
       "    .dataframe thead th {\n",
       "        text-align: right;\n",
       "    }\n",
       "</style>\n",
       "<table border=\"1\" class=\"dataframe\">\n",
       "  <thead>\n",
       "    <tr style=\"text-align: right;\">\n",
       "      <th></th>\n",
       "      <th>RESIDENTIAL UNITS</th>\n",
       "      <th>COMMERCIAL UNITS</th>\n",
       "      <th>TOTAL UNITS</th>\n",
       "      <th>LAND SQUARE FEET</th>\n",
       "      <th>YEAR BUILT</th>\n",
       "      <th>TAX CLASS AT TIME OF SALE</th>\n",
       "      <th>SALE PRICE</th>\n",
       "      <th>SALE YEAR</th>\n",
       "      <th>GROP SQUARE FEET</th>\n",
       "    </tr>\n",
       "  </thead>\n",
       "  <tbody>\n",
       "    <tr>\n",
       "      <th>count</th>\n",
       "      <td>47285.000000</td>\n",
       "      <td>47285.000000</td>\n",
       "      <td>47285.000000</td>\n",
       "      <td>4.728500e+04</td>\n",
       "      <td>47285.000000</td>\n",
       "      <td>47285.000000</td>\n",
       "      <td>4.728500e+04</td>\n",
       "      <td>47285.000000</td>\n",
       "      <td>4.728500e+04</td>\n",
       "    </tr>\n",
       "    <tr>\n",
       "      <th>mean</th>\n",
       "      <td>2.514053</td>\n",
       "      <td>0.239717</td>\n",
       "      <td>2.770561</td>\n",
       "      <td>3.291470e+03</td>\n",
       "      <td>1833.514561</td>\n",
       "      <td>1.460167</td>\n",
       "      <td>1.171341e+06</td>\n",
       "      <td>2016.647393</td>\n",
       "      <td>3.530269e+03</td>\n",
       "    </tr>\n",
       "    <tr>\n",
       "      <th>std</th>\n",
       "      <td>16.532690</td>\n",
       "      <td>10.915300</td>\n",
       "      <td>19.935527</td>\n",
       "      <td>3.071844e+04</td>\n",
       "      <td>452.767948</td>\n",
       "      <td>0.817759</td>\n",
       "      <td>1.352859e+07</td>\n",
       "      <td>0.477787</td>\n",
       "      <td>2.916192e+04</td>\n",
       "    </tr>\n",
       "    <tr>\n",
       "      <th>min</th>\n",
       "      <td>0.000000</td>\n",
       "      <td>0.000000</td>\n",
       "      <td>0.000000</td>\n",
       "      <td>0.000000e+00</td>\n",
       "      <td>0.000000</td>\n",
       "      <td>1.000000</td>\n",
       "      <td>0.000000e+00</td>\n",
       "      <td>2016.000000</td>\n",
       "      <td>0.000000e+00</td>\n",
       "    </tr>\n",
       "    <tr>\n",
       "      <th>25%</th>\n",
       "      <td>1.000000</td>\n",
       "      <td>0.000000</td>\n",
       "      <td>1.000000</td>\n",
       "      <td>1.463000e+03</td>\n",
       "      <td>1920.000000</td>\n",
       "      <td>1.000000</td>\n",
       "      <td>1.247340e+05</td>\n",
       "      <td>2016.000000</td>\n",
       "      <td>8.840000e+02</td>\n",
       "    </tr>\n",
       "    <tr>\n",
       "      <th>50%</th>\n",
       "      <td>1.000000</td>\n",
       "      <td>0.000000</td>\n",
       "      <td>1.000000</td>\n",
       "      <td>2.150000e+03</td>\n",
       "      <td>1931.000000</td>\n",
       "      <td>1.000000</td>\n",
       "      <td>4.900000e+05</td>\n",
       "      <td>2017.000000</td>\n",
       "      <td>1.628000e+03</td>\n",
       "    </tr>\n",
       "    <tr>\n",
       "      <th>75%</th>\n",
       "      <td>2.000000</td>\n",
       "      <td>0.000000</td>\n",
       "      <td>2.000000</td>\n",
       "      <td>3.088000e+03</td>\n",
       "      <td>1960.000000</td>\n",
       "      <td>2.000000</td>\n",
       "      <td>8.400000e+05</td>\n",
       "      <td>2017.000000</td>\n",
       "      <td>2.520000e+03</td>\n",
       "    </tr>\n",
       "    <tr>\n",
       "      <th>max</th>\n",
       "      <td>1844.000000</td>\n",
       "      <td>2261.000000</td>\n",
       "      <td>2261.000000</td>\n",
       "      <td>4.228300e+06</td>\n",
       "      <td>2017.000000</td>\n",
       "      <td>4.000000</td>\n",
       "      <td>2.210000e+09</td>\n",
       "      <td>2017.000000</td>\n",
       "      <td>3.750565e+06</td>\n",
       "    </tr>\n",
       "  </tbody>\n",
       "</table>\n",
       "</div>"
      ],
      "text/plain": [
       "       RESIDENTIAL UNITS  COMMERCIAL UNITS   TOTAL UNITS  LAND SQUARE FEET  \\\n",
       "count       47285.000000      47285.000000  47285.000000      4.728500e+04   \n",
       "mean            2.514053          0.239717      2.770561      3.291470e+03   \n",
       "std            16.532690         10.915300     19.935527      3.071844e+04   \n",
       "min             0.000000          0.000000      0.000000      0.000000e+00   \n",
       "25%             1.000000          0.000000      1.000000      1.463000e+03   \n",
       "50%             1.000000          0.000000      1.000000      2.150000e+03   \n",
       "75%             2.000000          0.000000      2.000000      3.088000e+03   \n",
       "max          1844.000000       2261.000000   2261.000000      4.228300e+06   \n",
       "\n",
       "         YEAR BUILT  TAX CLASS AT TIME OF SALE    SALE PRICE     SALE YEAR  \\\n",
       "count  47285.000000               47285.000000  4.728500e+04  47285.000000   \n",
       "mean    1833.514561                   1.460167  1.171341e+06   2016.647393   \n",
       "std      452.767948                   0.817759  1.352859e+07      0.477787   \n",
       "min        0.000000                   1.000000  0.000000e+00   2016.000000   \n",
       "25%     1920.000000                   1.000000  1.247340e+05   2016.000000   \n",
       "50%     1931.000000                   1.000000  4.900000e+05   2017.000000   \n",
       "75%     1960.000000                   2.000000  8.400000e+05   2017.000000   \n",
       "max     2017.000000                   4.000000  2.210000e+09   2017.000000   \n",
       "\n",
       "       GROP SQUARE FEET  \n",
       "count      4.728500e+04  \n",
       "mean       3.530269e+03  \n",
       "std        2.916192e+04  \n",
       "min        0.000000e+00  \n",
       "25%        8.840000e+02  \n",
       "50%        1.628000e+03  \n",
       "75%        2.520000e+03  \n",
       "max        3.750565e+06  "
      ]
     },
     "execution_count": 20,
     "metadata": {},
     "output_type": "execute_result"
    }
   ],
   "source": [
    "# Membuat tabel informasi statistik\n",
    "df_NYC.describe()"
   ]
  },
  {
   "cell_type": "markdown",
   "id": "d7335331",
   "metadata": {},
   "source": [
    "##### Berdasarkan output di atas maka dapat diketahui jumlah, rata-rata, standar deviasi, nilai minimum, kuartil 1-3, dan nilai maximum per kolom dataset yang digunakan"
   ]
  },
  {
   "cell_type": "code",
   "execution_count": 21,
   "id": "ffb53022",
   "metadata": {},
   "outputs": [
    {
     "data": {
      "text/plain": [
       "(47285, 18)"
      ]
     },
     "execution_count": 21,
     "metadata": {},
     "output_type": "execute_result"
    }
   ],
   "source": [
    "df_NYC.shape"
   ]
  },
  {
   "cell_type": "markdown",
   "id": "83787792",
   "metadata": {},
   "source": [
    "### Data yang akan diolah"
   ]
  },
  {
   "cell_type": "code",
   "execution_count": 41,
   "id": "186dd2c9",
   "metadata": {},
   "outputs": [],
   "source": [
    "# Mengubah tipe data menjadi numeric yang ingin dijadikan hipotesis\n",
    "df_NYC['GROSS SQUARE FEET'] = pd.to_numeric(df_NYC['GROSS SQUARE FEET'], errors = 'coerce')\n",
    "df_NYC['SALE PRICE'] = pd.to_numeric(df_NYC['SALE PRICE'], errors = 'coerce')"
   ]
  },
  {
   "cell_type": "code",
   "execution_count": 42,
   "id": "2f853370",
   "metadata": {},
   "outputs": [
    {
     "data": {
      "text/html": [
       "<div>\n",
       "<style scoped>\n",
       "    .dataframe tbody tr th:only-of-type {\n",
       "        vertical-align: middle;\n",
       "    }\n",
       "\n",
       "    .dataframe tbody tr th {\n",
       "        vertical-align: top;\n",
       "    }\n",
       "\n",
       "    .dataframe thead th {\n",
       "        text-align: right;\n",
       "    }\n",
       "</style>\n",
       "<table border=\"1\" class=\"dataframe\">\n",
       "  <thead>\n",
       "    <tr style=\"text-align: right;\">\n",
       "      <th></th>\n",
       "      <th>level_0</th>\n",
       "      <th>index</th>\n",
       "      <th>BOROUGH</th>\n",
       "      <th>NEIGHBORHOOD</th>\n",
       "      <th>BUILDING CLASS CATEGORY</th>\n",
       "      <th>TAX CLASS AT PRESENT</th>\n",
       "      <th>BUILDING CLASS AT PRESENT</th>\n",
       "      <th>RESIDENTIAL UNITS</th>\n",
       "      <th>COMMERCIAL UNITS</th>\n",
       "      <th>TOTAL UNITS</th>\n",
       "      <th>LAND SQUARE FEET</th>\n",
       "      <th>GROSS SQUARE FEET</th>\n",
       "      <th>YEAR BUILT</th>\n",
       "      <th>TAX CLASS AT TIME OF SALE</th>\n",
       "      <th>BUILDING CLASS AT TIME OF SALE</th>\n",
       "      <th>SALE PRICE</th>\n",
       "      <th>SALE DATE</th>\n",
       "      <th>SALE MONTH</th>\n",
       "      <th>SALE YEAR</th>\n",
       "      <th>GROP SQUARE FEET</th>\n",
       "    </tr>\n",
       "  </thead>\n",
       "  <tbody>\n",
       "    <tr>\n",
       "      <th>0</th>\n",
       "      <td>1</td>\n",
       "      <td>3</td>\n",
       "      <td>Manhattan</td>\n",
       "      <td>ALPHABET CITY</td>\n",
       "      <td>07 RENTALS - WALKUP APARTMENTS</td>\n",
       "      <td>2B</td>\n",
       "      <td>C4</td>\n",
       "      <td>10</td>\n",
       "      <td>0</td>\n",
       "      <td>10</td>\n",
       "      <td>2272.0</td>\n",
       "      <td>6794</td>\n",
       "      <td>1913</td>\n",
       "      <td>2</td>\n",
       "      <td>C4</td>\n",
       "      <td>3936272.0</td>\n",
       "      <td>2016-09-23</td>\n",
       "      <td>&lt;bound method PandasDelegate._add_delegate_acc...</td>\n",
       "      <td>2016</td>\n",
       "      <td>6794.0</td>\n",
       "    </tr>\n",
       "    <tr>\n",
       "      <th>1</th>\n",
       "      <td>3</td>\n",
       "      <td>6</td>\n",
       "      <td>Manhattan</td>\n",
       "      <td>ALPHABET CITY</td>\n",
       "      <td>07 RENTALS - WALKUP APARTMENTS</td>\n",
       "      <td>2B</td>\n",
       "      <td>C4</td>\n",
       "      <td>8</td>\n",
       "      <td>0</td>\n",
       "      <td>8</td>\n",
       "      <td>1750.0</td>\n",
       "      <td>4226</td>\n",
       "      <td>1920</td>\n",
       "      <td>2</td>\n",
       "      <td>C4</td>\n",
       "      <td>3192840.0</td>\n",
       "      <td>2016-09-23</td>\n",
       "      <td>&lt;bound method PandasDelegate._add_delegate_acc...</td>\n",
       "      <td>2016</td>\n",
       "      <td>4226.0</td>\n",
       "    </tr>\n",
       "    <tr>\n",
       "      <th>2</th>\n",
       "      <td>7</td>\n",
       "      <td>172</td>\n",
       "      <td>Manhattan</td>\n",
       "      <td>ALPHABET CITY</td>\n",
       "      <td>14 RENTALS - 4-10 UNIT</td>\n",
       "      <td>2A</td>\n",
       "      <td>S3</td>\n",
       "      <td>3</td>\n",
       "      <td>1</td>\n",
       "      <td>4</td>\n",
       "      <td>1520.0</td>\n",
       "      <td>3360</td>\n",
       "      <td>1910</td>\n",
       "      <td>2</td>\n",
       "      <td>S3</td>\n",
       "      <td>3300000.0</td>\n",
       "      <td>2016-11-15</td>\n",
       "      <td>&lt;bound method PandasDelegate._add_delegate_acc...</td>\n",
       "      <td>2016</td>\n",
       "      <td>3360.0</td>\n",
       "    </tr>\n",
       "    <tr>\n",
       "      <th>3</th>\n",
       "      <td>9</td>\n",
       "      <td>174</td>\n",
       "      <td>Manhattan</td>\n",
       "      <td>ALPHABET CITY</td>\n",
       "      <td>14 RENTALS - 4-10 UNIT</td>\n",
       "      <td>2A</td>\n",
       "      <td>S5</td>\n",
       "      <td>5</td>\n",
       "      <td>1</td>\n",
       "      <td>6</td>\n",
       "      <td>1779.0</td>\n",
       "      <td>3713</td>\n",
       "      <td>1910</td>\n",
       "      <td>2</td>\n",
       "      <td>S5</td>\n",
       "      <td>4750000.0</td>\n",
       "      <td>2017-04-03</td>\n",
       "      <td>&lt;bound method PandasDelegate._add_delegate_acc...</td>\n",
       "      <td>2017</td>\n",
       "      <td>3713.0</td>\n",
       "    </tr>\n",
       "    <tr>\n",
       "      <th>4</th>\n",
       "      <td>10</td>\n",
       "      <td>195</td>\n",
       "      <td>Manhattan</td>\n",
       "      <td>ALPHABET CITY</td>\n",
       "      <td>22 STORE BUILDINGS</td>\n",
       "      <td>4</td>\n",
       "      <td>K4</td>\n",
       "      <td>0</td>\n",
       "      <td>1</td>\n",
       "      <td>1</td>\n",
       "      <td>1218.0</td>\n",
       "      <td>3586</td>\n",
       "      <td>1899</td>\n",
       "      <td>4</td>\n",
       "      <td>K4</td>\n",
       "      <td>3700000.0</td>\n",
       "      <td>2016-09-28</td>\n",
       "      <td>&lt;bound method PandasDelegate._add_delegate_acc...</td>\n",
       "      <td>2016</td>\n",
       "      <td>3586.0</td>\n",
       "    </tr>\n",
       "  </tbody>\n",
       "</table>\n",
       "</div>"
      ],
      "text/plain": [
       "   level_0  index    BOROUGH   NEIGHBORHOOD  \\\n",
       "0        1      3  Manhattan  ALPHABET CITY   \n",
       "1        3      6  Manhattan  ALPHABET CITY   \n",
       "2        7    172  Manhattan  ALPHABET CITY   \n",
       "3        9    174  Manhattan  ALPHABET CITY   \n",
       "4       10    195  Manhattan  ALPHABET CITY   \n",
       "\n",
       "                       BUILDING CLASS CATEGORY TAX CLASS AT PRESENT  \\\n",
       "0  07 RENTALS - WALKUP APARTMENTS                                2B   \n",
       "1  07 RENTALS - WALKUP APARTMENTS                                2B   \n",
       "2  14 RENTALS - 4-10 UNIT                                        2A   \n",
       "3  14 RENTALS - 4-10 UNIT                                        2A   \n",
       "4  22 STORE BUILDINGS                                             4   \n",
       "\n",
       "  BUILDING CLASS AT PRESENT  RESIDENTIAL UNITS  COMMERCIAL UNITS  TOTAL UNITS  \\\n",
       "0                        C4                 10                 0           10   \n",
       "1                        C4                  8                 0            8   \n",
       "2                        S3                  3                 1            4   \n",
       "3                        S5                  5                 1            6   \n",
       "4                        K4                  0                 1            1   \n",
       "\n",
       "   LAND SQUARE FEET  GROSS SQUARE FEET  YEAR BUILT  TAX CLASS AT TIME OF SALE  \\\n",
       "0            2272.0               6794        1913                          2   \n",
       "1            1750.0               4226        1920                          2   \n",
       "2            1520.0               3360        1910                          2   \n",
       "3            1779.0               3713        1910                          2   \n",
       "4            1218.0               3586        1899                          4   \n",
       "\n",
       "  BUILDING CLASS AT TIME OF SALE  SALE PRICE  SALE DATE  \\\n",
       "0                             C4   3936272.0 2016-09-23   \n",
       "1                             C4   3192840.0 2016-09-23   \n",
       "2                             S3   3300000.0 2016-11-15   \n",
       "3                             S5   4750000.0 2017-04-03   \n",
       "4                             K4   3700000.0 2016-09-28   \n",
       "\n",
       "                                          SALE MONTH  SALE YEAR  \\\n",
       "0  <bound method PandasDelegate._add_delegate_acc...       2016   \n",
       "1  <bound method PandasDelegate._add_delegate_acc...       2016   \n",
       "2  <bound method PandasDelegate._add_delegate_acc...       2016   \n",
       "3  <bound method PandasDelegate._add_delegate_acc...       2017   \n",
       "4  <bound method PandasDelegate._add_delegate_acc...       2016   \n",
       "\n",
       "   GROP SQUARE FEET  \n",
       "0            6794.0  \n",
       "1            4226.0  \n",
       "2            3360.0  \n",
       "3            3713.0  \n",
       "4            3586.0  "
      ]
     },
     "execution_count": 42,
     "metadata": {},
     "output_type": "execute_result"
    }
   ],
   "source": [
    "# Mengurutkan indeks sesuai dengan nomor baris\n",
    "df_NYC.reset_index(inplace = True)\n",
    "df_NYC.head()"
   ]
  },
  {
   "cell_type": "code",
   "execution_count": 43,
   "id": "5515828a",
   "metadata": {},
   "outputs": [
    {
     "data": {
      "text/plain": [
       "(27056, 20)"
      ]
     },
     "execution_count": 43,
     "metadata": {},
     "output_type": "execute_result"
    }
   ],
   "source": [
    "df_NYC.shape"
   ]
  },
  {
   "cell_type": "code",
   "execution_count": 44,
   "id": "85f7506c",
   "metadata": {},
   "outputs": [
    {
     "name": "stdout",
     "output_type": "stream",
     "text": [
      "<class 'pandas.core.frame.DataFrame'>\n",
      "RangeIndex: 27056 entries, 0 to 27055\n",
      "Data columns (total 20 columns):\n",
      " #   Column                          Non-Null Count  Dtype         \n",
      "---  ------                          --------------  -----         \n",
      " 0   level_0                         27056 non-null  int64         \n",
      " 1   index                           27056 non-null  int64         \n",
      " 2   BOROUGH                         27056 non-null  object        \n",
      " 3   NEIGHBORHOOD                    27056 non-null  object        \n",
      " 4   BUILDING CLASS CATEGORY         27056 non-null  object        \n",
      " 5   TAX CLASS AT PRESENT            27056 non-null  object        \n",
      " 6   BUILDING CLASS AT PRESENT       27056 non-null  object        \n",
      " 7   RESIDENTIAL UNITS               27056 non-null  int64         \n",
      " 8   COMMERCIAL UNITS                27056 non-null  int64         \n",
      " 9   TOTAL UNITS                     27056 non-null  int64         \n",
      " 10  LAND SQUARE FEET                27056 non-null  float64       \n",
      " 11  GROSS SQUARE FEET               27056 non-null  int64         \n",
      " 12  YEAR BUILT                      27056 non-null  int64         \n",
      " 13  TAX CLASS AT TIME OF SALE       27056 non-null  int64         \n",
      " 14  BUILDING CLASS AT TIME OF SALE  27056 non-null  object        \n",
      " 15  SALE PRICE                      27056 non-null  float64       \n",
      " 16  SALE DATE                       27056 non-null  datetime64[ns]\n",
      " 17  SALE MONTH                      27056 non-null  object        \n",
      " 18  SALE YEAR                       27056 non-null  int64         \n",
      " 19  GROP SQUARE FEET                27056 non-null  float64       \n",
      "dtypes: datetime64[ns](1), float64(3), int64(9), object(7)\n",
      "memory usage: 4.1+ MB\n"
     ]
    }
   ],
   "source": [
    "df_NYC.info()"
   ]
  },
  {
   "cell_type": "markdown",
   "id": "ed2dce71",
   "metadata": {},
   "source": [
    "## Analisis Data dengan Statistik Deskriptif dan Inferensia\n",
    "\n",
    "\n",
    "Menggunakan analisis statistik deskriptif dan inferensia dapat menjawab pertanyaan/asumsi hipotesis yang akan di uji."
   ]
  },
  {
   "cell_type": "code",
   "execution_count": 45,
   "id": "e6f4534f",
   "metadata": {},
   "outputs": [],
   "source": [
    "# Download Package\n",
    "import matplotlib.pyplot as plt\n",
    "\n",
    "%matplotlib inline\n",
    "import seaborn as sns\n",
    "import math\n",
    "import scipy.stats\n",
    "from scipy.stats import t\n",
    "from scipy.stats import chi2_contingency\n",
    "from scipy.stats import ttest_ind\n",
    "import datetime"
   ]
  },
  {
   "cell_type": "markdown",
   "id": "671d0923",
   "metadata": {},
   "source": [
    "## Distribusi Statistik Harga Penjualan Unit Properti di NYC"
   ]
  },
  {
   "cell_type": "markdown",
   "id": "4bed462b",
   "metadata": {},
   "source": [
    "#### Untuk pengolaha data kita memakai kolom \"SALE PRICE\"\n",
    "\n",
    "Dari data yang diperoleh dapat diketahui nilai maksimum pada kolom \"SALE PRICE\" sebesar 2.210.000.000, maka akan dilihat distribusi frekuensi dari kolom tersebut di mana nilai harga penjualan di atas 10.000.000 tidak disertakan, karena nilai kuartil ke-3 sebesar 8.400.000."
   ]
  },
  {
   "cell_type": "markdown",
   "id": "aff5c675",
   "metadata": {},
   "source": [
    "Untuk mendapatkan nilai harga penjualan yang signifikan, berdasarkan nilai kuartil-1 sebesar 100.000, dan harga penjualan di bawah 5.000.000, maka tidak diikutsertakan dalam analisis. Karena dibawah kuartil-1 dan di atas kuartil-3 akan dijadikan outlier/batas."
   ]
  },
  {
   "cell_type": "code",
   "execution_count": 46,
   "id": "7d4baf3b",
   "metadata": {},
   "outputs": [
    {
     "data": {
      "text/plain": [
       "Text(0.5, 1.0, 'Distribusi SALE PRICE')"
      ]
     },
     "execution_count": 46,
     "metadata": {},
     "output_type": "execute_result"
    },
    {
     "data": {
      "text/plain": [
       "<Figure size 720x360 with 0 Axes>"
      ]
     },
     "metadata": {},
     "output_type": "display_data"
    },
    {
     "data": {
      "image/png": "[encoded data removed]",
      "text/plain": [
       "<Figure size 360x360 with 1 Axes>"
      ]
     },
     "metadata": {
      "needs_background": "light"
     },
     "output_type": "display_data"
    }
   ],
   "source": [
    "# Distribusi Penjualan Unit Properti di NYC\n",
    "df_NYC = df_NYC[(df_NYC['SALE PRICE']>100000) & (df_NYC['SALE PRICE']<5000000)]\n",
    "plt.figure(figsize=(10,5))\n",
    "sns.displot(df_NYC['SALE PRICE'], kde=True, bins=50)\n",
    "plt.title('Distribusi SALE PRICE')"
   ]
  },
  {
   "cell_type": "code",
   "execution_count": 47,
   "id": "66eeb155",
   "metadata": {},
   "outputs": [
    {
     "data": {
      "text/plain": [
       "count    2.705600e+04\n",
       "mean     8.077497e+05\n",
       "std      6.491966e+05\n",
       "min      1.007000e+05\n",
       "25%      4.400000e+05\n",
       "50%      6.250000e+05\n",
       "75%      9.250000e+05\n",
       "max      4.975000e+06\n",
       "Name: SALE PRICE, dtype: float64"
      ]
     },
     "execution_count": 47,
     "metadata": {},
     "output_type": "execute_result"
    }
   ],
   "source": [
    "df_NYC['SALE PRICE'].describe()"
   ]
  },
  {
   "cell_type": "markdown",
   "id": "a415aa4d",
   "metadata": {},
   "source": [
    "##### Berdasarkan output dari analisis yang telah di olah data, dapat diketahui perbedaan nilai yang lebih signifikan. Nilai minimum sebesar 100.000 USD dan max mendekati 5.000.000 USD, ini telah sesuai dengan distribusi yang diinginkan."
   ]
  },
  {
   "cell_type": "code",
   "execution_count": 70,
   "id": "566daaa5",
   "metadata": {},
   "outputs": [
    {
     "data": {
      "text/plain": [
       "807749.744234181"
      ]
     },
     "execution_count": 70,
     "metadata": {},
     "output_type": "execute_result"
    }
   ],
   "source": [
    "# Nilai rata-rata harga penjualan\n",
    "df_NYC['SALE PRICE'].mean()"
   ]
  },
  {
   "cell_type": "code",
   "execution_count": 48,
   "id": "bab1ff56",
   "metadata": {},
   "outputs": [
    {
     "data": {
      "text/plain": [
       "625000.0"
      ]
     },
     "execution_count": 48,
     "metadata": {},
     "output_type": "execute_result"
    }
   ],
   "source": [
    "# Nilai median harga penjualan per unit\n",
    "df_NYC['SALE PRICE'].median()"
   ]
  },
  {
   "cell_type": "code",
   "execution_count": 49,
   "id": "fe50d371",
   "metadata": {},
   "outputs": [
    {
     "data": {
      "text/plain": [
       "0    700000.0\n",
       "Name: SALE PRICE, dtype: float64"
      ]
     },
     "execution_count": 49,
     "metadata": {},
     "output_type": "execute_result"
    }
   ],
   "source": [
    "# Niai modus harga penjualan per unit\n",
    "df_NYC['SALE PRICE'].mode()"
   ]
  },
  {
   "cell_type": "code",
   "execution_count": 50,
   "id": "999ef49d",
   "metadata": {},
   "outputs": [
    {
     "name": "stdout",
     "output_type": "stream",
     "text": [
      "Range:  4874300.0\n",
      "Variance:  421440658478.36804\n",
      "Standar Deviation:  649184.6104756088\n",
      "Skewness:  2.7893840670295487\n"
     ]
    }
   ],
   "source": [
    "# Ukuran Persebaran Data\n",
    "print('Range: ', np.ptp(df_NYC['SALE PRICE']))\n",
    "print('Variance: ', np.var(df_NYC['SALE PRICE']))\n",
    "print('Standar Deviation: ', np.std(df_NYC['SALE PRICE']))\n",
    "print('Skewness: ', scipy.stats.skew(df_NYC['SALE PRICE']))"
   ]
  },
  {
   "cell_type": "code",
   "execution_count": 51,
   "id": "1274fd1d",
   "metadata": {},
   "outputs": [
    {
     "data": {
      "image/png": "[encoded data removed]",
      "text/plain": [
       "<Figure size 864x504 with 1 Axes>"
      ]
     },
     "metadata": {
      "needs_background": "light"
     },
     "output_type": "display_data"
    }
   ],
   "source": [
    "df_NYC['SALE PRICE'].plot(kind='hist', figsize=(12, 7), bins=120, color='pink')\n",
    "plt.title(\"Distribusi Frekuensi Harga Penjualan Gedung di New York City\", fontsize=15)\n",
    "plt.xlabel('Harga', fontsize=10)\n",
    "plt.ylabel('Frekuensi', fontsize=10)\n",
    "plt.axvline(df_NYC['SALE PRICE'].mean(), c='red')\n",
    "plt.axvline(df_NYC['SALE PRICE'].median(), c='yellow')\n",
    "plt.axvline(df_NYC['SALE PRICE'].mode()[0], c='green')\n",
    "plt.text(625000, 2000, 'median', fontsize=15)\n",
    "plt.text(80000, 1800, 'mean', fontsize=15)\n",
    "plt.text(700000, 1500, 'mode', fontsize=15)\n",
    "plt.grid(linewidth=0.5)"
   ]
  },
  {
   "cell_type": "markdown",
   "id": "37a9bc8f",
   "metadata": {},
   "source": [
    "##### Berdasarkan plot diatas, dapat diketahui distribusi statistik harga penjualan properti di New York dimana frekuensi tertinggi harga prorerty dibawah 1.000.000 USD. Rata-rata harga penjualan property kurang lebih sebesar 800.000 USD, median harga penjualan property sebesar 610.000 USD, dan property di New York City paling banyak terjual di harga 650.000 USD"
   ]
  },
  {
   "cell_type": "markdown",
   "id": "ee3544a4",
   "metadata": {},
   "source": [
    "### Confidence Interval rata-rata harga penjualan unit properti di NYC"
   ]
  },
  {
   "cell_type": "code",
   "execution_count": 52,
   "id": "4a1632ce",
   "metadata": {},
   "outputs": [
    {
     "name": "stdout",
     "output_type": "stream",
     "text": [
      "[800013.82 815485.66]\n"
     ]
    }
   ],
   "source": [
    "x = df_NYC['SALE PRICE']\n",
    "\n",
    "mean = x.mean()\n",
    "std = x.std()\n",
    "dof = len(x)-1  #degree of freedom, yaitu penentuan nilai statistik ujinya\n",
    "\n",
    "confidance = 0.95 # tingkat kepercayaan\n",
    "t_test = np.abs(t.ppf((1-confidance)/2, dof))\n",
    "\n",
    "values = np.round((mean-std*t_test/np.sqrt(len(x)), mean+std*t_test/np.sqrt(len(x))),2)\n",
    "\n",
    "print(values)"
   ]
  },
  {
   "cell_type": "markdown",
   "id": "e50dfbfd",
   "metadata": {},
   "source": [
    "##### Berdasarkan output di atas dapat diketahui bahwa rata-rata harga penjualan properti di NYC sebesar 800.013 USD sampai dengan 815.485 USD dengan tingkat kepercayaan 0.95 atau 95%. "
   ]
  },
  {
   "cell_type": "markdown",
   "id": "ecc11f65",
   "metadata": {},
   "source": [
    "## Hipotesis test"
   ]
  },
  {
   "cell_type": "code",
   "execution_count": 53,
   "id": "dc8494a1",
   "metadata": {},
   "outputs": [],
   "source": [
    "# Download Package\n",
    "import pandas as pd\n",
    "import numpy as np\n",
    "import statsmodels.api as sm\n",
    "from scipy.stats import kstest, shapiro"
   ]
  },
  {
   "cell_type": "markdown",
   "id": "e4585a5c",
   "metadata": {},
   "source": [
    "Sebelumnya kita sudah mengolah data penjualan unit properti di New York City. Di asumsikan sebuah pertanyaan \"Apakah Harga Penjualan dipengaruhi luas wilayahnya atau tidak?\".\n",
    "Asumsi hipotesis di atas akan diuji dengan menggunakan Uji Normalitas terlebih dahulu."
   ]
  },
  {
   "cell_type": "markdown",
   "id": "f52e9c3f",
   "metadata": {},
   "source": [
    "Misalkan ditentukan level signifikansi 5% atau 0.05.\n",
    "Hipotesisnya adalah:\n",
    "- H0 : data tidak sesuai dengan distribusi normal\n",
    "- H1 : data sesuai dengan distribusi normal"
   ]
  },
  {
   "cell_type": "code",
   "execution_count": 61,
   "id": "5d2d7d31",
   "metadata": {},
   "outputs": [
    {
     "name": "stdout",
     "output_type": "stream",
     "text": [
      "KstestResult(statistic=1.0, pvalue=0.0)\n",
      "ShapiroResult(statistic=0.7175456285476685, pvalue=0.0)\n"
     ]
    }
   ],
   "source": [
    "ksdata = kstest(df_NYC['SALE PRICE'], 'norm')\n",
    "swdata = shapiro(df_NYC['SALE PRICE'])\n",
    "print(ksdata)\n",
    "print(swdata)"
   ]
  },
  {
   "cell_type": "code",
   "execution_count": 55,
   "id": "64a9c80e",
   "metadata": {},
   "outputs": [
    {
     "name": "stdout",
     "output_type": "stream",
     "text": [
      "KstestResult(statistic=0.9864725014784151, pvalue=0.0)\n",
      "ShapiroResult(statistic=0.014278411865234375, pvalue=0.0)\n"
     ]
    }
   ],
   "source": [
    "ksdata = kstest(df_NYC['GROSS SQUARE FEET'], 'norm')\n",
    "swdata = shapiro(df_NYC['GROSS SQUARE FEET'])\n",
    "print(ksdata)\n",
    "print(swdata)"
   ]
  },
  {
   "cell_type": "markdown",
   "id": "82930548",
   "metadata": {},
   "source": [
    "### Pearson's Correaltion Coefficient\n",
    "\n",
    "Menguji apakah sample SALE PRICE dan GROSS SQUARE FEET saling berkorelasi"
   ]
  },
  {
   "cell_type": "markdown",
   "id": "93886924",
   "metadata": {},
   "source": [
    "Interpretasi\n",
    "- H0: the two samples are independent\n",
    "- H1: there is a depedency between the samples"
   ]
  },
  {
   "cell_type": "code",
   "execution_count": 64,
   "id": "b472fb47",
   "metadata": {},
   "outputs": [
    {
     "name": "stdout",
     "output_type": "stream",
     "text": [
      "stat=0.045, p=0.000\n",
      "Probably dependent\n"
     ]
    }
   ],
   "source": [
    "from scipy.stats import pearsonr\n",
    "data1 = df_NYC['SALE PRICE']\n",
    "data2 = df_NYC['GROSS SQUARE FEET']\n",
    "stat, p = pearsonr(data1, data2)\n",
    "print('stat=%.3f, p=%.3f' % (stat, p))\n",
    "if p > 0.05:\n",
    "    print('Probably independent')\n",
    "else:\n",
    "    print('Probably dependent')"
   ]
  },
  {
   "cell_type": "markdown",
   "id": "83690926",
   "metadata": {},
   "source": [
    "##### Berdasarkan output yang didapatkan maka dapat disimpulkan H0 ditolak, dan H1 diterima. Hasil dari perhitungan sebesar 0.045 yang berarti kurang dari 0.05 ini menandakan bahwa data berdistribusi tidak normal, dan memiliki tipe korelasi positif. "
   ]
  },
  {
   "cell_type": "code",
   "execution_count": 69,
   "id": "7db03a72",
   "metadata": {},
   "outputs": [
    {
     "data": {
      "text/plain": [
       "Text(0.5, 1.0, 'Hubungan antara GROSS SQUARE FEET dan SALE PRICE')"
      ]
     },
     "execution_count": 69,
     "metadata": {},
     "output_type": "execute_result"
    },
    {
     "data": {
      "image/png": "[encoded data removed]",
      "text/plain": [
       "<Figure size 864x504 with 1 Axes>"
      ]
     },
     "metadata": {
      "needs_background": "light"
     },
     "output_type": "display_data"
    }
   ],
   "source": [
    "df_gp = df_NYC[['GROSS SQUARE FEET', 'SALE PRICE']]\n",
    "\n",
    "#Karena ukuran gross square feet lebih besar dari 3000 maka akan dianggap outlier\n",
    "df_gross_price = df_gp[df_gp['GROSS SQUARE FEET'] < 3000]\n",
    "# visualisasi menggunakan scatterplot\n",
    "fig = plt.figure(figsize=(12, 7))\n",
    "\n",
    "ax0 = fig.add_subplot(1,2,1)\n",
    "sns.scatterplot(data= df_gross_price, x='GROSS SQUARE FEET', y='SALE PRICE', ax=ax0)\n",
    "ax0.set_title('Hubungan antara GROSS SQUARE FEET dan SALE PRICE')"
   ]
  },
  {
   "cell_type": "markdown",
   "id": "2d2c800d",
   "metadata": {},
   "source": [
    "##### Berdasarkan scatterplot di atas, diketahui bahwa ukuran luas lahan properti seluruhnya mempunyai pengaruh yang positif, karena semakin besar ukuran luas lahan properti seluruhnya akan diikuti dengan kenaikan harga jual properti tersebut."
   ]
  },
  {
   "cell_type": "markdown",
   "id": "79072aec",
   "metadata": {},
   "source": [
    "## Kesimpulan\n",
    "Berdasarkan analisis statistik deskriptif dan inferensia, didapatkan kesimpulan sebagai berikut:\n",
    "\n",
    "- Rata-Rata harga penjualan properti di NYC sebesar 800.013 USD sampai dengan 815.485 USD dengan tingkat kepercayaan 0.95 atau 95%.\n",
    "- Harga penjualan properti di NYC juga memiliki nilai varians dan standar deviasi yang sangat besar, ini berarti harga penjualan properti di NYC sangat bervariasi.\n",
    "- Ukuran luas lahan unit properti (GROSS SQUARE FEET) mempengaruhi harga penjualan properti di New York City, yaitu semakin besar luas lahan properti, harga jual semakin tinggi juga.\n"
   ]
  },
  {
   "cell_type": "code",
   "execution_count": null,
   "id": "30c6958b",
   "metadata": {},
   "outputs": [],
   "source": []
  }
 ],
 "metadata": {
  "kernelspec": {
   "display_name": "Python 3 (ipykernel)",
   "language": "python",
   "name": "python3"
  },
  "language_info": {
   "codemirror_mode": {
    "name": "ipython",
    "version": 3
   },
   "file_extension": ".py",
   "mimetype": "text/x-python",
   "name": "python",
   "nbconvert_exporter": "python",
   "pygments_lexer": "ipython3",
   "version": "3.9.12"
  }
 },
 "nbformat": 4,
 "nbformat_minor": 5
}
